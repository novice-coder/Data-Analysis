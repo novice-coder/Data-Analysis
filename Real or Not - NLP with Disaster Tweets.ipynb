{
 "cells": [
  {
   "cell_type": "markdown",
   "metadata": {
    "deletable": true,
    "editable": true
   },
   "source": [
    "### All of the imports"
   ]
  },
  {
   "cell_type": "code",
   "execution_count": 4,
   "metadata": {
    "collapsed": false,
    "deletable": true,
    "editable": true
   },
   "outputs": [],
   "source": [
    "import re\n",
    "import nltk\n",
    "\n",
    "import pandas as pd\n",
    "import numpy as np\n",
    "\n",
    "from os import sep, makedirs\n",
    "from os.path import dirname, realpath, join, isdir, exists\n",
    "\n",
    "from sklearn.feature_extraction.text import CountVectorizer, TfidfVectorizer\n",
    "from sklearn.decomposition import TruncatedSVD\n",
    "\n",
    "from sklearn.model_selection import cross_val_predict, cross_val_score, StratifiedKFold, train_test_split\n",
    "from sklearn.linear_model import LogisticRegression, RidgeClassifier\n",
    "from sklearn.ensemble import RandomForestClassifier\n",
    "from sklearn.svm import SVC\n",
    "from sklearn.metrics import log_loss, accuracy_score, f1_score\n",
    "import scikitplot.plotters as skplt\n",
    "\n",
    "from nltk.corpus import stopwords\n",
    "\n",
    "import gensim\n",
    "import itertools\n",
    "import emoji\n",
    "\n",
    "import seaborn as sns\n",
    "import matplotlib.pyplot as plt\n",
    "%matplotlib inline"
   ]
  },
  {
   "cell_type": "markdown",
   "metadata": {
    "deletable": true,
    "editable": true
   },
   "source": [
    "### Loading the Data"
   ]
  },
  {
   "cell_type": "code",
   "execution_count": 5,
   "metadata": {
    "collapsed": true,
    "deletable": true,
    "editable": true
   },
   "outputs": [],
   "source": [
    "uppath = lambda _path, n: sep.join(_path.split(sep)[:-n]) # moves the path 'n' levels up the directory\n",
    "\n",
    "__file__ = dirname(realpath('__file__'))\n",
    "data_parent_directory = uppath(__file__, 2)\n",
    "data_directory = join(data_parent_directory, 'Data')\n",
    "real_or_not_directory = join(data_directory, 'real-or-not')"
   ]
  },
  {
   "cell_type": "markdown",
   "metadata": {
    "deletable": true,
    "editable": true
   },
   "source": [
    "The data is in the form of a zip file, so we extract CVSs from it."
   ]
  },
  {
   "cell_type": "code",
   "execution_count": 6,
   "metadata": {
    "collapsed": true,
    "deletable": true,
    "editable": true
   },
   "outputs": [],
   "source": [
    "from zipfile import ZipFile\n",
    "\n",
    "def extract_real_or_not_data(zipfile_directory, real_or_not_directory):\n",
    "    \n",
    "    if not isdir(real_or_not_directory):\n",
    "        makedirs(real_or_not_directory)\n",
    "    \n",
    "    real_or_not_path = join(zipfile_directory, 'real-or-not.zip')\n",
    "    with ZipFile(real_or_not_path, 'r') as zip:\n",
    "            zip.extractall(path=real_or_not_directory)"
   ]
  },
  {
   "cell_type": "code",
   "execution_count": 7,
   "metadata": {
    "collapsed": true,
    "deletable": true,
    "editable": true
   },
   "outputs": [],
   "source": [
    "def load_real_or_not_data(real_or_not_directory):\n",
    "    train_csv = join(real_or_not_directory, \"train.csv\")\n",
    "    test_csv = join(real_or_not_directory, \"test.csv\")\n",
    "    return pd.read_csv(train_csv), pd.read_csv(test_csv)"
   ]
  },
  {
   "cell_type": "code",
   "execution_count": 8,
   "metadata": {
    "collapsed": true,
    "deletable": true,
    "editable": true
   },
   "outputs": [],
   "source": [
    "extract_real_or_not_data(data_directory, real_or_not_directory)\n",
    "\n",
    "train, test = load_real_or_not_data(real_or_not_directory)"
   ]
  },
  {
   "cell_type": "code",
   "execution_count": 9,
   "metadata": {
    "collapsed": false,
    "deletable": true,
    "editable": true
   },
   "outputs": [
    {
     "data": {
      "text/html": [
       "<div>\n",
       "<style scoped>\n",
       "    .dataframe tbody tr th:only-of-type {\n",
       "        vertical-align: middle;\n",
       "    }\n",
       "\n",
       "    .dataframe tbody tr th {\n",
       "        vertical-align: top;\n",
       "    }\n",
       "\n",
       "    .dataframe thead th {\n",
       "        text-align: right;\n",
       "    }\n",
       "</style>\n",
       "<table border=\"1\" class=\"dataframe\">\n",
       "  <thead>\n",
       "    <tr style=\"text-align: right;\">\n",
       "      <th></th>\n",
       "      <th>id</th>\n",
       "      <th>keyword</th>\n",
       "      <th>location</th>\n",
       "      <th>text</th>\n",
       "      <th>target</th>\n",
       "    </tr>\n",
       "  </thead>\n",
       "  <tbody>\n",
       "    <tr>\n",
       "      <th>0</th>\n",
       "      <td>1</td>\n",
       "      <td>NaN</td>\n",
       "      <td>NaN</td>\n",
       "      <td>Our Deeds are the Reason of this #earthquake M...</td>\n",
       "      <td>1</td>\n",
       "    </tr>\n",
       "    <tr>\n",
       "      <th>1</th>\n",
       "      <td>4</td>\n",
       "      <td>NaN</td>\n",
       "      <td>NaN</td>\n",
       "      <td>Forest fire near La Ronge Sask. Canada</td>\n",
       "      <td>1</td>\n",
       "    </tr>\n",
       "    <tr>\n",
       "      <th>2</th>\n",
       "      <td>5</td>\n",
       "      <td>NaN</td>\n",
       "      <td>NaN</td>\n",
       "      <td>All residents asked to 'shelter in place' are ...</td>\n",
       "      <td>1</td>\n",
       "    </tr>\n",
       "    <tr>\n",
       "      <th>3</th>\n",
       "      <td>6</td>\n",
       "      <td>NaN</td>\n",
       "      <td>NaN</td>\n",
       "      <td>13,000 people receive #wildfires evacuation or...</td>\n",
       "      <td>1</td>\n",
       "    </tr>\n",
       "    <tr>\n",
       "      <th>4</th>\n",
       "      <td>7</td>\n",
       "      <td>NaN</td>\n",
       "      <td>NaN</td>\n",
       "      <td>Just got sent this photo from Ruby #Alaska as ...</td>\n",
       "      <td>1</td>\n",
       "    </tr>\n",
       "  </tbody>\n",
       "</table>\n",
       "</div>"
      ],
      "text/plain": [
       "   id keyword location                                               text  \\\n",
       "0   1     NaN      NaN  Our Deeds are the Reason of this #earthquake M...   \n",
       "1   4     NaN      NaN             Forest fire near La Ronge Sask. Canada   \n",
       "2   5     NaN      NaN  All residents asked to 'shelter in place' are ...   \n",
       "3   6     NaN      NaN  13,000 people receive #wildfires evacuation or...   \n",
       "4   7     NaN      NaN  Just got sent this photo from Ruby #Alaska as ...   \n",
       "\n",
       "   target  \n",
       "0       1  \n",
       "1       1  \n",
       "2       1  \n",
       "3       1  \n",
       "4       1  "
      ]
     },
     "execution_count": 9,
     "metadata": {},
     "output_type": "execute_result"
    }
   ],
   "source": [
    "train.head()"
   ]
  },
  {
   "cell_type": "code",
   "execution_count": 10,
   "metadata": {
    "collapsed": false,
    "deletable": true,
    "editable": true
   },
   "outputs": [
    {
     "data": {
      "text/plain": [
       "(7613, 5)"
      ]
     },
     "execution_count": 10,
     "metadata": {},
     "output_type": "execute_result"
    }
   ],
   "source": [
    "train.shape"
   ]
  },
  {
   "cell_type": "markdown",
   "metadata": {
    "deletable": true,
    "editable": true
   },
   "source": [
    "### Some initial analysis"
   ]
  },
  {
   "cell_type": "code",
   "execution_count": 11,
   "metadata": {
    "collapsed": false,
    "deletable": true,
    "editable": true
   },
   "outputs": [
    {
     "data": {
      "text/plain": [
       "<matplotlib.text.Text at 0x19687e387b8>"
      ]
     },
     "execution_count": 11,
     "metadata": {},
     "output_type": "execute_result"
    },
    {
     "data": {
      "image/png": "[encoded data removed]",
      "text/plain": [
       "<matplotlib.figure.Figure at 0x19687db4d68>"
      ]
     },
     "metadata": {},
     "output_type": "display_data"
    }
   ],
   "source": [
    "figure, axes = plt.subplots(2,2, figsize=(15,7))\n",
    "sns.countplot(x='target', data=train[train['keyword'].isna()], ax=axes[0][0])\n",
    "sns.countplot(x='target', data=train[train['keyword'].notnull()], ax=axes[0][1]) \n",
    "sns.countplot(x='target', data=train[train['location'].isna()], ax=axes[1][0]) \n",
    "sns.countplot(x='target', data=train[train['location'].notnull()], ax=axes[1][1]) \n",
    "\n",
    "axes[0][0].set_ylabel('Keyword'); axes[0][0].set_title('Empty')\n",
    "axes[1][0].set_ylabel('Location'); axes[0][1].set_title('Non-Empty')"
   ]
  },
  {
   "cell_type": "code",
   "execution_count": 12,
   "metadata": {
    "collapsed": false,
    "deletable": true,
    "editable": true
   },
   "outputs": [
    {
     "data": {
      "text/plain": [
       "<matplotlib.axes._subplots.AxesSubplot at 0x19687db47b8>"
      ]
     },
     "execution_count": 12,
     "metadata": {},
     "output_type": "execute_result"
    },
    {
     "data": {
      "image/png": "[encoded data removed]",
      "text/plain": [
       "<matplotlib.figure.Figure at 0x19687e72d68>"
      ]
     },
     "metadata": {},
     "output_type": "display_data"
    }
   ],
   "source": [
    "sns.countplot(x='target', data=train)"
   ]
  },
  {
   "cell_type": "markdown",
   "metadata": {
    "collapsed": false,
    "deletable": true,
    "editable": true
   },
   "source": [
    "For location, the empty and non-empty scenarios have similar target counts.\n",
    "<br>For keyword, target '1' count is almost double that of '0'. But this count is very very small and may not be useful.\n",
    "\n",
    "In general, the count for target '0' is higher. Meaning that fake tweets are more.\n",
    "\n",
    "---\n",
    "Moving on, Let's look at the keywords column."
   ]
  },
  {
   "cell_type": "code",
   "execution_count": 13,
   "metadata": {
    "collapsed": false,
    "deletable": true,
    "editable": true
   },
   "outputs": [
    {
     "data": {
      "text/plain": [
       "array([nan, 'ablaze', 'accident', 'aftershock', 'airplane%20accident',\n",
       "       'ambulance', 'annihilated', 'annihilation', 'apocalypse',\n",
       "       'armageddon', 'army', 'arson', 'arsonist', 'attack', 'attacked',\n",
       "       'avalanche', 'battle', 'bioterror', 'bioterrorism', 'blaze',\n",
       "       'blazing', 'bleeding', 'blew%20up', 'blight', 'blizzard', 'blood',\n",
       "       'bloody', 'blown%20up', 'body%20bag', 'body%20bagging',\n",
       "       'body%20bags', 'bomb', 'bombed', 'bombing', 'bridge%20collapse'],\n",
       "      dtype=object)"
      ]
     },
     "execution_count": 13,
     "metadata": {},
     "output_type": "execute_result"
    }
   ],
   "source": [
    "train['keyword'].unique()[:35]"
   ]
  },
  {
   "cell_type": "markdown",
   "metadata": {
    "collapsed": true,
    "deletable": true,
    "editable": true
   },
   "source": [
    "Spaces for the words have been filled with '%20'. Gotta remove them.\n",
    "<br>And there are multiple values that have the same meaning. Like:\n",
    "<br><span style='color:blue'>['body%20bag', 'body%20bagging', 'body%20bags']\n",
    "<br>['casualties', 'casualty'], ['fatal', 'fatalities', 'fatality']</span>\n",
    "\n",
    "<br>Stemming or lemmatization should be used. Judging by the data, stemming should be enough for this column.\n",
    "<br>But I do see a case where it says:\n",
    "<br><span style='color:blue'>['blew%20up', 'blown%20up']</span>\n",
    "<br>Stemming can't solve this. Nevertheless, computation cost is not a concern for us here, so lemmatization can also be explored.\n",
    "\n",
    "\n",
    "<br>Also, in some cases like the one shown below, two keywords have the same meaning although different words are used.\n",
    "<br><span style='color:blue'>['buildings%20burning', 'buildings%20on%20fire']</span>\n",
    "<br>It'll be cool to be able to identify these things.\n",
    "\n",
    "Maybe fire-burn-blaze-ablaze can be clubbed to the same thing? A synonym analysis, if something like that is present, can help.\n",
    "<br>But maybe 'fire' is often used when  it's fake and 'blaze' is used when it's real. I'll have to check if that's the case.\n",
    "<br>Let's see.\n",
    "\n"
   ]
  },
  {
   "cell_type": "code",
   "execution_count": 14,
   "metadata": {
    "collapsed": false,
    "deletable": true,
    "editable": true
   },
   "outputs": [
    {
     "name": "stdout",
     "output_type": "stream",
     "text": [
      "{'%20'}\n"
     ]
    }
   ],
   "source": [
    "non_numeric_keywords = set()\n",
    "for keyword in train['keyword'].unique()[1:]: # First element is nan. So took [1:]\n",
    "    for match in re.findall(r'[^a-zA-Z]+', keyword):\n",
    "        non_numeric_keywords.add(match)\n",
    "\n",
    "print(non_numeric_keywords)"
   ]
  },
  {
   "cell_type": "markdown",
   "metadata": {
    "collapsed": true,
    "deletable": true,
    "editable": true
   },
   "source": [
    "Only <span style='color:blue'>'%20'</span> seems to be the non-alphabetic value in the column. Same for test data as seen below. So we can safely replace it with a space."
   ]
  },
  {
   "cell_type": "code",
   "execution_count": 15,
   "metadata": {
    "collapsed": false,
    "deletable": true,
    "editable": true
   },
   "outputs": [
    {
     "name": "stdout",
     "output_type": "stream",
     "text": [
      "{'%20'}\n"
     ]
    }
   ],
   "source": [
    "non_numeric_keywords = set()\n",
    "for keyword in test['keyword'].unique()[1:]: # First element is nan. So took [1:]\n",
    "    for match in re.findall(r'[^a-zA-Z]+', keyword):\n",
    "        non_numeric_keywords.add(match)\n",
    "\n",
    "print(non_numeric_keywords)"
   ]
  },
  {
   "cell_type": "code",
   "execution_count": 16,
   "metadata": {
    "collapsed": false,
    "deletable": true,
    "editable": true
   },
   "outputs": [],
   "source": [
    "pattern = r'[a-zA-Z]+'\n",
    "train['keyword'] = train['keyword'].apply(lambda x: ' '.join(nltk.regexp_tokenize(x, pattern)) if not pd.isnull(x) else x)\n",
    "test['keyword'] = test['keyword'].apply(lambda x: ' '.join(nltk.regexp_tokenize(x, pattern)) if not pd.isnull(x) else x)\n",
    "\n",
    "# Note that the regexp works because there's no other special characters (not even space) apart from '%20'.\n",
    "# A more complex regexp would be required in other cases."
   ]
  },
  {
   "cell_type": "markdown",
   "metadata": {
    "deletable": true,
    "editable": true
   },
   "source": [
    "Before normalizing keyword, I'd like to test a Stemmer and a Lemmatizer from nltk and see which one suits this dataset better.\n",
    "<br>I've taken a sample list to test them."
   ]
  },
  {
   "cell_type": "code",
   "execution_count": 17,
   "metadata": {
    "collapsed": false,
    "deletable": true,
    "editable": true
   },
   "outputs": [
    {
     "data": {
      "text/plain": [
       "['building',\n",
       " 'bag',\n",
       " 'bagging',\n",
       " 'fatal',\n",
       " 'fatality',\n",
       " 'fatality',\n",
       " 'blew',\n",
       " 'blown',\n",
       " 'blow',\n",
       " 'bomb',\n",
       " 'bombing']"
      ]
     },
     "execution_count": 17,
     "metadata": {},
     "output_type": "execute_result"
    }
   ],
   "source": [
    "sample = ['building', 'bags', 'bagging', 'fatal', 'fatality', 'fatalities', 'blew', 'blown', 'blow', 'bomb', 'bombing']\n",
    "wnl = nltk.WordNetLemmatizer()\n",
    "[wnl.lemmatize(token) for token in sample]"
   ]
  },
  {
   "cell_type": "code",
   "execution_count": 18,
   "metadata": {
    "collapsed": false,
    "deletable": true,
    "editable": true
   },
   "outputs": [
    {
     "data": {
      "text/plain": [
       "['build',\n",
       " 'bag',\n",
       " 'bag',\n",
       " 'fatal',\n",
       " 'fatal',\n",
       " 'fatal',\n",
       " 'blew',\n",
       " 'blown',\n",
       " 'blow',\n",
       " 'bomb',\n",
       " 'bomb']"
      ]
     },
     "execution_count": 18,
     "metadata": {},
     "output_type": "execute_result"
    }
   ],
   "source": [
    "porter = nltk.PorterStemmer()\n",
    "[porter.stem(token) for token in sample]"
   ]
  },
  {
   "cell_type": "markdown",
   "metadata": {
    "collapsed": true,
    "deletable": true,
    "editable": true
   },
   "source": [
    "Stemmer for the win!"
   ]
  },
  {
   "cell_type": "code",
   "execution_count": 19,
   "metadata": {
    "collapsed": true,
    "deletable": true,
    "editable": true
   },
   "outputs": [],
   "source": [
    "def stem_and_join(keyword):\n",
    "    stemmed_keyword = [porter.stem(token) for token in keyword.split()]\n",
    "    return ' '.join(stemmed_keyword)\n",
    "\n",
    "train['trans_keyword'] = train['keyword'].apply(lambda x: stem_and_join(x) if not pd.isnull(x) else x)\n",
    "test['trans_keyword'] = test['keyword'].apply(lambda x: stem_and_join(x) if not pd.isnull(x) else x)"
   ]
  },
  {
   "cell_type": "code",
   "execution_count": 20,
   "metadata": {
    "collapsed": false,
    "deletable": true,
    "editable": true
   },
   "outputs": [
    {
     "data": {
      "text/plain": [
       "array([nan, 'ablaz', 'accid', 'aftershock', 'airplan accid', 'ambul',\n",
       "       'annihil', 'apocalyps', 'armageddon', 'armi', 'arson', 'arsonist',\n",
       "       'attack', 'avalanch', 'battl', 'bioterror', 'blaze', 'bleed',\n",
       "       'blew up', 'blight', 'blizzard', 'blood', 'bloodi', 'blown up',\n",
       "       'bodi bag', 'bomb', 'bridg collaps', 'build burn', 'build on fire',\n",
       "       'burn', 'burn build', 'bush fire', 'casualti', 'catastroph',\n",
       "       'chemic emerg'], dtype=object)"
      ]
     },
     "execution_count": 20,
     "metadata": {},
     "output_type": "execute_result"
    }
   ],
   "source": [
    "train['trans_keyword'].unique()[:35]"
   ]
  },
  {
   "cell_type": "code",
   "execution_count": 21,
   "metadata": {
    "collapsed": false,
    "deletable": true,
    "editable": true
   },
   "outputs": [],
   "source": [
    "train['trans_keyword'].fillna(' ', inplace=True)\n",
    "test['trans_keyword'].fillna(' ', inplace=True)"
   ]
  },
  {
   "cell_type": "markdown",
   "metadata": {
    "deletable": true,
    "editable": true
   },
   "source": [
    "---\n",
    "That's all about keyword. Now it's time for location and text.\n",
    "<br>First up: Location."
   ]
  },
  {
   "cell_type": "markdown",
   "metadata": {
    "deletable": true,
    "editable": true
   },
   "source": [
    "---\n",
    "Let's note down the possible scenarios:\n",
    "<br>1) The location names could be abbreviated / normal. Both should be treated the same.\n",
    "<br>2) Some of them start with the location name followed by a comma and then there's junk. The part until comma is enough.\n",
    "\n",
    "\n",
    "Hey! Instead of brainstorming about these very specific cases, I could create a frequency map and use it.\n",
    "<br>See if a so-called 'unique' location has words similar to another more frequent location and equalize them.\n",
    "<br>It may not be very accurate, but it'll do. I hope."
   ]
  },
  {
   "cell_type": "code",
   "execution_count": 22,
   "metadata": {
    "collapsed": false,
    "deletable": true,
    "editable": true
   },
   "outputs": [
    {
     "data": {
      "text/plain": [
       "[(nan, 2533),\n",
       " ('usa', 104),\n",
       " ('new york', 75),\n",
       " ('united states', 50),\n",
       " ('london', 49),\n",
       " ('canada', 33),\n",
       " ('worldwide', 31),\n",
       " ('nigeria', 31),\n",
       " ('uk', 30),\n",
       " ('los angeles, ca', 28),\n",
       " ('india', 28),\n",
       " ('mumbai', 24),\n",
       " ('washington, dc', 21),\n",
       " ('kenya', 21),\n",
       " ('chicago, il', 19),\n",
       " ('everywhere', 19),\n",
       " ('australia', 18),\n",
       " ('california', 18),\n",
       " ('new york, ny', 16),\n",
       " ('california, usa', 15),\n",
       " ('nyc', 15),\n",
       " ('los angeles', 14),\n",
       " ('united kingdom', 14),\n",
       " ('florida', 14),\n",
       " ('washington, d.c.', 14),\n",
       " ('san francisco', 14),\n",
       " ('indonesia', 13),\n",
       " ('toronto', 13),\n",
       " ('chicago', 13),\n",
       " ('ireland', 12),\n",
       " ('texas', 12),\n",
       " ('earth', 12),\n",
       " ('world', 12),\n",
       " ('atlanta, ga', 11),\n",
       " ('san francisco, ca', 11),\n",
       " ('seattle', 11),\n",
       " ('us', 10),\n",
       " ('sacramento, ca', 10),\n",
       " ('ss', 10),\n",
       " ('london, uk', 10),\n",
       " ('london, england', 10),\n",
       " ('new york city', 10),\n",
       " ('nashville, tn', 10),\n",
       " ('304', 9),\n",
       " ('dallas, tx', 9),\n",
       " ('denver, colorado', 9),\n",
       " ('global', 9),\n",
       " ('manchester', 9),\n",
       " ('south africa', 9),\n",
       " ('san diego, ca', 9),\n",
       " ('houston, tx', 8),\n",
       " ('scotland', 8),\n",
       " ('orlando, fl', 8),\n",
       " ('seattle, wa', 7),\n",
       " ('atlanta', 7),\n",
       " ('sydney', 7),\n",
       " ('planet earth', 7),\n",
       " ('pennsylvania, usa', 7),\n",
       " ('memphis, tn', 7),\n",
       " ('colorado', 7),\n",
       " ('tennessee', 7),\n",
       " ('china', 7),\n",
       " ('austin, tx', 7),\n",
       " ('denver, co', 7),\n",
       " ('singapore', 6),\n",
       " ('paterson, new jersey ', 6),\n",
       " ('calgary, alberta', 6),\n",
       " ('newcastle', 6),\n",
       " ('brooklyn, ny', 6),\n",
       " ('cleveland, oh', 6),\n",
       " ('??????', 6),\n",
       " ('morioh, japan', 6),\n",
       " ('massachusetts', 6),\n",
       " ('lagos', 6),\n",
       " ('pedophile hunting ground', 6),\n",
       " ('oklahoma city, ok', 6),\n",
       " (' road to the billionaires club', 6),\n",
       " ('indiana', 6),\n",
       " ('portland, or', 6),\n",
       " ('charlotte, nc', 6),\n",
       " ('tampa, fl', 6),\n",
       " ('california, united states', 6),\n",
       " ('ny', 6),\n",
       " ('southern california', 6),\n",
       " ('in the word of god', 5),\n",
       " ('coventry', 5),\n",
       " ('lagos, nigeria', 5),\n",
       " ('north carolina', 5),\n",
       " ('michigan', 5),\n",
       " ('wisconsin', 5),\n",
       " ('calgary, ab', 5),\n",
       " ('new york, usa', 5),\n",
       " ('puerto rico', 5),\n",
       " ('san jose, ca', 5),\n",
       " ('philippines', 5),\n",
       " ('new jersey', 5),\n",
       " ('oakland, ca', 5),\n",
       " ('vancouver, bc', 5),\n",
       " ('maryland', 5),\n",
       " ('leeds, england', 5),\n",
       " ('italy', 5),\n",
       " ('asheville, nc', 5),\n",
       " ('midwest', 5),\n",
       " ('sydney, australia', 5),\n",
       " ('pennsylvania', 5),\n",
       " ('new hampshire', 5),\n",
       " ('africa', 5),\n",
       " ('boston, ma', 5),\n",
       " ('melbourne, australia', 5),\n",
       " ('brasil', 5),\n",
       " ('tokyo', 5),\n",
       " ('florida, usa', 5),\n",
       " ('portland, oregon', 5),\n",
       " ('pakistan', 5),\n",
       " ('melbourne', 5),\n",
       " ('the netherlands', 5),\n",
       " ('texas, usa', 5),\n",
       " ('phoenix, az', 4),\n",
       " ('atlanta georgia ', 4),\n",
       " (\"jakarta/kuala lumpur/s'pore\", 4),\n",
       " ('mad as hell', 4),\n",
       " ('sacramento', 4),\n",
       " ('state college, pa', 4),\n",
       " ('boston', 4),\n",
       " ('austin, texas', 4),\n",
       " ('manchester, england', 4),\n",
       " ('glasgow', 4),\n",
       " ('oregon', 4),\n",
       " ('san francisco bay area', 4),\n",
       " ('kansas city', 4),\n",
       " ('?????', 4),\n",
       " ('u.s.a', 4),\n",
       " ('sydney, new south wales', 4),\n",
       " ('nj', 4),\n",
       " ('bend, oregon', 4),\n",
       " ('nairobi-kenya', 4),\n",
       " ('sweden', 4),\n",
       " ('calgary', 4),\n",
       " ('??', 4),\n",
       " ('mumbai, maharashtra', 4),\n",
       " ('massachusetts, usa', 4),\n",
       " ('argentina', 4),\n",
       " ('jamaica', 4),\n",
       " ('seattle, washington', 4),\n",
       " ('birmingham', 4),\n",
       " ('las vegas, nevada', 4),\n",
       " ('philadelphia, pa', 4),\n",
       " ('cape town', 4),\n",
       " ('happily married with 2 kids ', 4),\n",
       " ('barbados', 4),\n",
       " ('switzerland', 4),\n",
       " ('port harcourt, nigeria', 4),\n",
       " ('edinburgh', 4),\n",
       " ('world wide', 4),\n",
       " ('geneva', 4),\n",
       " ('paignton', 4),\n",
       " ('nigeria ', 4),\n",
       " ('st. louis, mo', 4),\n",
       " ('british columbia, canada', 4),\n",
       " ('tx', 4),\n",
       " ('north carolina, usa', 4),\n",
       " ('germany', 4),\n",
       " ('?', 4),\n",
       " ('japan', 4),\n",
       " ('leicester', 4),\n",
       " ('arizona', 4),\n",
       " ('haddonfield, nj', 4),\n",
       " ('toronto, ontario', 4),\n",
       " ('republic of texas', 4),\n",
       " ('birmingham, england', 3),\n",
       " ('ca', 3),\n",
       " ('malaysia', 3),\n",
       " ('narnia', 3),\n",
       " ('new orleans, la', 3),\n",
       " ('baltimore, md', 3),\n",
       " ('victoria, british columbia', 3),\n",
       " ('stockholm, sweden', 3),\n",
       " ('financial news and views', 3),\n",
       " ('houston', 3),\n",
       " ('south, usa', 3),\n",
       " ('nairobi', 3),\n",
       " ('oklahoma city', 3),\n",
       " ('virginia', 3),\n",
       " ('east coast', 3),\n",
       " ('anchorage, ak', 3),\n",
       " ('naperville', 3),\n",
       " ('liverpool', 3),\n",
       " ('ca via brum', 3),\n",
       " ('madison, wi', 3),\n",
       " ('taylor swift', 3),\n",
       " ('new orleans ,louisiana', 3),\n",
       " ('england', 3),\n",
       " ('htx', 3),\n",
       " ('???', 3),\n",
       " ('utah', 3),\n",
       " ('winston-salem, nc', 3),\n",
       " ('america of founding fathers', 3),\n",
       " ('#flightcity uk  ', 3),\n",
       " ('asia', 3),\n",
       " ('vancouver, british columbia', 3),\n",
       " ('san diego', 3),\n",
       " ('kolkata', 3),\n",
       " ('buffalo, ny', 3),\n",
       " ('hell', 3),\n",
       " ('inexpressible island ', 3),\n",
       " ('kansas city, mo', 3),\n",
       " ('itunes', 3),\n",
       " ('raleigh, nc', 3),\n",
       " ('washington dc', 3),\n",
       " ('calgary, ab, canada', 3),\n",
       " ('nottingham, england', 3),\n",
       " ('brazil', 3),\n",
       " ('five down from the coffeeshop', 3),\n",
       " ('hawaii, usa', 3),\n",
       " ('dublin, ireland', 3),\n",
       " ('washington d.c.', 3),\n",
       " ('nc', 3),\n",
       " ('america', 3),\n",
       " ('haysville, ks', 3),\n",
       " ('columbus, oh', 3),\n",
       " ('illinois, usa', 3),\n",
       " ('norway', 3),\n",
       " ('manhattan, ny', 3),\n",
       " ('gotham city', 3),\n",
       " ('nairobi, kenya', 3),\n",
       " ('rio de janeiro', 3),\n",
       " ('bangalore, india', 3),\n",
       " ('karachi pakistan', 3),\n",
       " ('subconscious la', 3),\n",
       " ('nyc :) ex- #islamophobe', 3),\n",
       " ('ph', 3),\n",
       " ('virginia, usa', 3),\n",
       " ('buy give me my money ', 3),\n",
       " ('georgia', 3),\n",
       " ('nowhere. everywhere.', 3),\n",
       " ('arlington, tx', 3),\n",
       " ('oregon, usa', 3),\n",
       " ('las vegas', 3),\n",
       " ('memphis', 3),\n",
       " ('london uk', 3),\n",
       " ('upstairs.', 3),\n",
       " ('california ', 3),\n",
       " ('adelaide, australia', 3),\n",
       " ('johannesburg, south africa', 3),\n",
       " ('ma', 3),\n",
       " ('pa', 3),\n",
       " ('lagos nigeria', 3),\n",
       " ('milwaukee, wi', 3),\n",
       " ('ontario, canada', 3),\n",
       " ('hong kong', 3),\n",
       " ('los angeles, california', 3),\n",
       " ('anonymous', 3),\n",
       " ('kama | 18 | france ', 3),\n",
       " ('tulsa, oklahoma', 3),\n",
       " ('indianapolis, in', 3),\n",
       " ('victoria, bc', 3),\n",
       " ('karachi', 3),\n",
       " ('des moines, ia', 3),\n",
       " ('israel', 3),\n",
       " ('iraq|afghanistan| rsa |baghdad', 3),\n",
       " ('republica dominicana', 3),\n",
       " ('washington state', 3),\n",
       " ('21.462446,-158.022017', 3),\n",
       " ('cleveland, oh - san diego, ca', 2),\n",
       " ('vancouver bc', 2),\n",
       " ('berlin - germany', 2),\n",
       " ('alaska', 2),\n",
       " ('above the snake line - #yonews', 2),\n",
       " ('seattle wa', 2),\n",
       " ('adelaide, south australia', 2),\n",
       " ('ottawa, canada', 2),\n",
       " ('reddit ', 2),\n",
       " ('thailand', 2),\n",
       " ('tucson, az', 2),\n",
       " ('auckland', 2),\n",
       " ('global-nolocation', 2),\n",
       " ('kansas', 2),\n",
       " ('wales', 2),\n",
       " ('brisbane', 2),\n",
       " ('washington', 2),\n",
       " ('in the potters hands', 2),\n",
       " ('dc', 2),\n",
       " ('trinidad & tobago', 2),\n",
       " ('niagara falls, ontario', 2),\n",
       " ('new england', 2),\n",
       " ('rocky mountains', 2),\n",
       " ('new york ', 2),\n",
       " ('hackney, london', 2),\n",
       " ('ukraine', 2),\n",
       " ('140920-21 & 150718-19 beijing', 2),\n",
       " ('mumbai , india', 2),\n",
       " ('honduras', 2),\n",
       " ('enfield, uk', 2),\n",
       " ('kingston, jamaica', 2),\n",
       " ('new sweden', 2),\n",
       " ('dublin city, ireland', 2),\n",
       " ('redding, california, usa', 2),\n",
       " (' queensland, australia', 2),\n",
       " ('the insane asylum. ', 2),\n",
       " ('swmo', 2),\n",
       " ('winnipeg, manitoba', 2),\n",
       " ('san diego california 92101', 2),\n",
       " ('yamaku academy, class 3-4', 2),\n",
       " ('knoxville, tn', 2),\n",
       " ('newark, nj', 2),\n",
       " ('odawara, japan', 2),\n",
       " ('fort walton beach, fl', 2),\n",
       " ('dallas fort-worth', 2),\n",
       " ('dubai', 2),\n",
       " ('jerusalem', 2),\n",
       " ('somewhere only we know ?', 2),\n",
       " ('na:tinixw / hoopa, berkeley', 2),\n",
       " (\"dime's palace\", 2),\n",
       " ('instagram - @heyimginog ', 2),\n",
       " ('sydney australia', 2),\n",
       " ('kashmir!', 2),\n",
       " ('detroit, mi', 2),\n",
       " ('moscow', 2),\n",
       " ('va', 2),\n",
       " ('venezuela', 2),\n",
       " ('swaning around', 2),\n",
       " ('????', 2),\n",
       " ('accra,ghana', 2),\n",
       " ('huntsville, al', 2),\n",
       " ('epic city, bb.', 2),\n",
       " ('u.k.', 2),\n",
       " ('mesa, az', 2),\n",
       " ('usa (formerly @usnoaagov)', 2),\n",
       " ('washington, usa', 2),\n",
       " ('to the right of you!', 2),\n",
       " ('vancouver usa', 2),\n",
       " ('online ', 2),\n",
       " ('they/them ', 2),\n",
       " ('orange county, california', 2),\n",
       " ('erie, pa', 2),\n",
       " ('mo.city', 2),\n",
       " ('cherry creek denver co', 2),\n",
       " ('somewhere in the canada', 2),\n",
       " ('melbourne australia', 2),\n",
       " ('http://www.amazon.com/dp/b00hr', 2),\n",
       " ('world wide web', 2),\n",
       " ('pretoria', 2),\n",
       " ('houston tx', 2),\n",
       " ('fresno, ca', 2),\n",
       " ('617-btown-beatdown', 2),\n",
       " ('ìït: 10.614817868480726,12.195582811791382', 2),\n",
       " ('dundee', 2),\n",
       " ('austin tx', 2),\n",
       " ('san antonio, tx', 2),\n",
       " ('belgium', 2),\n",
       " ('minna, nigeria', 2),\n",
       " ('charlotte nc', 2),\n",
       " ('az', 2),\n",
       " ('blackpool', 2),\n",
       " ('jakarta', 2),\n",
       " ('silver spring, md', 2),\n",
       " ('olympia, wa', 2),\n",
       " ('georgia, usa', 2),\n",
       " ('lisbon, portugal', 2),\n",
       " ('derby', 2),\n",
       " ('winnipeg', 2),\n",
       " ('107-18 79th street', 2),\n",
       " ('durham, nc', 2),\n",
       " ('san jose, california', 2),\n",
       " ('unknown', 2),\n",
       " ('madison, ga', 2),\n",
       " ('macclesfield', 2),\n",
       " ('anzio,italy', 2),\n",
       " ('selma2oakland', 2),\n",
       " ('earth ', 2),\n",
       " ('macon, ga', 2),\n",
       " ('heaven', 2),\n",
       " ('europe', 2),\n",
       " ('yogya berhati nyaman', 2),\n",
       " ('portland, ore. ', 2),\n",
       " ('far away', 2),\n",
       " ('russia', 2),\n",
       " ('korea', 2),\n",
       " ('istanbul', 2),\n",
       " ('#harleychick#pjnt#runbenrun', 2),\n",
       " ('south stand', 2),\n",
       " ('paris', 2),\n",
       " ('here.', 2),\n",
       " ('tn', 2),\n",
       " ('somewhere usa ', 2),\n",
       " ('palo alto, california', 2),\n",
       " ('connecticut', 2),\n",
       " ('eastcarolina', 2),\n",
       " ('scotland, united kingdom', 2),\n",
       " ('greensboro, north carolina', 2),\n",
       " ('wa state', 2),\n",
       " ('live on webcam', 2),\n",
       " ('budapest, hungary', 2),\n",
       " ('palo alto, ca', 2),\n",
       " ('kent', 2),\n",
       " ('does it really matter!', 2),\n",
       " ('louisiana', 2),\n",
       " ('miami', 2),\n",
       " ('baton rouge, la', 2),\n",
       " ('rome', 2),\n",
       " ('alexandria, va', 2),\n",
       " ('all around the world', 2),\n",
       " ('gainesville, fl', 2),\n",
       " ('oakland', 2),\n",
       " ('oklahoma', 2),\n",
       " ('sì£o paulo', 2),\n",
       " ('los angeles ', 2),\n",
       " ('somewhere out there', 2),\n",
       " ('portugal', 2),\n",
       " ('west virginia, usa', 2),\n",
       " ('mi', 2),\n",
       " ('breaking news', 2),\n",
       " ('arizona ', 2),\n",
       " ('silicon valley', 2),\n",
       " ('ohio, usa', 2),\n",
       " ('charlotte', 2),\n",
       " ('muntinlupa city, philippines', 2),\n",
       " ('new delhi, delhi', 2),\n",
       " ('philadelphia', 2),\n",
       " ('leesburg, fl', 2),\n",
       " ('incognito', 2),\n",
       " ('mongolia', 2),\n",
       " ('sarasota, fl', 2),\n",
       " ('bournemouth', 2),\n",
       " ('street of dallas', 2),\n",
       " ('roanoke, va', 2),\n",
       " ('colombia', 2),\n",
       " ('434', 2),\n",
       " ('miami, fl', 2),\n",
       " ('sf bay area', 2),\n",
       " ('wilmington, nc', 2),\n",
       " ('jupiter', 2),\n",
       " ('manchester, uk', 2),\n",
       " ('ashburn, va', 2),\n",
       " ('scandinavia', 2),\n",
       " ('maldives', 2),\n",
       " ('in hell', 2),\n",
       " ('atx', 2),\n",
       " ('lyallpur, pakistan', 2),\n",
       " ('brooklyn, nyc', 2),\n",
       " ('a little house in the outback.', 2),\n",
       " ('vietnam', 2),\n",
       " ('decatur, ga', 2),\n",
       " ('lincoln, ne', 2),\n",
       " ('bronx ny', 2),\n",
       " ('spokane, wa', 2),\n",
       " ('federal capital territory', 2),\n",
       " ('somalia', 2),\n",
       " ('dubai, uae', 2),\n",
       " ('new hanover county, nc', 2),\n",
       " ('chile', 2),\n",
       " ('bakersfield, california', 2),\n",
       " ('302', 2),\n",
       " ('costa rica', 2),\n",
       " ('???  dreamz', 2),\n",
       " ('ontario canada', 2),\n",
       " ('perth, western australia', 2),\n",
       " ('toronto, canada', 2),\n",
       " ('phoenix', 2),\n",
       " ('eldoret, kenya', 2),\n",
       " ('suplex city', 2),\n",
       " ('buenos aires, argentina', 2),\n",
       " ('new york, new york', 2),\n",
       " ('england, united kingdom', 2),\n",
       " ('washington, dc & charlotte, nc', 2),\n",
       " ('santa cruz, ca', 2),\n",
       " ('manchester, nh', 2),\n",
       " ('mnl', 2),\n",
       " ('ca physically- boston strong?', 2),\n",
       " ('glasgow, scotland', 2),\n",
       " ('columbia, sc', 2),\n",
       " ('bangalore', 2),\n",
       " ('bandung', 2),\n",
       " ('karachi, pakistan', 2),\n",
       " ('dallas', 2),\n",
       " ('chicago, illinois', 2),\n",
       " ('trinidad and tobago', 2),\n",
       " ('long island, ny', 2),\n",
       " ('desde republica argentina', 2),\n",
       " ('halifax', 2),\n",
       " ('newcastle upon tyne, england', 2),\n",
       " ('victoria, australia, earth', 2),\n",
       " ('alabama', 2),\n",
       " ('michigan, usa', 2),\n",
       " ('the american wasteland (mv)', 2),\n",
       " ('ewa beach, hi', 2),\n",
       " ('manila, philippines', 2),\n",
       " ('chevy chase, md', 2),\n",
       " ('st paul, mn', 2),\n",
       " ('location', 2),\n",
       " ('your screen', 2),\n",
       " ('renfrew, scotland', 2),\n",
       " ('? ', 2),\n",
       " ('new zealand', 2),\n",
       " ('pittsburgh', 2),\n",
       " ('west', 2),\n",
       " ('19.600858, -99.047821', 2),\n",
       " ('new delhi, india', 2),\n",
       " ('sand springs oklahoma', 2),\n",
       " ('berlin, germany', 2),\n",
       " ('el dorado, arkansas', 2),\n",
       " ('helsinki', 2),\n",
       " ('gold coast, australia', 2),\n",
       " ('roaming around the world', 2),\n",
       " (\"spare 'oom\", 2),\n",
       " ('right here', 2),\n",
       " ('riyadh', 2),\n",
       " ('buenos aires', 2),\n",
       " ('auckland, new zealand', 2),\n",
       " ('ohio', 2),\n",
       " ('cyprus', 2),\n",
       " ('melbourne, victoria', 2),\n",
       " ('philadelphia, pa ', 2),\n",
       " ('moncton, new brunswick', 2),\n",
       " ('rock hill, sc', 2),\n",
       " ('the universe', 2),\n",
       " ('cumming, ga', 2),\n",
       " ('detroit', 2),\n",
       " ('baltimore', 2),\n",
       " ('mackay, qld, australia', 2),\n",
       " ('evanston, il', 2),\n",
       " ('boise, idaho', 2),\n",
       " ('bukittinggi  ?? sumatera barat', 2),\n",
       " ('columbus', 2),\n",
       " ('eic', 2),\n",
       " ('united states of america', 2),\n",
       " ('st charles, md', 2),\n",
       " ('boston ma', 2),\n",
       " ('lynchburg, va', 1),\n",
       " ('londonstan', 1),\n",
       " ('youngstown, oh', 1),\n",
       " ('trapped in my conscience ', 1),\n",
       " ('east kilbride', 1),\n",
       " ('portsmouth, va', 1),\n",
       " ('??????????????', 1),\n",
       " ('atmosphere', 1),\n",
       " ('birdland, new meridian, fd', 1),\n",
       " ('nc || or', 1),\n",
       " ('hartford,  connecticut', 1),\n",
       " ('518', 1),\n",
       " ('west wales', 1),\n",
       " ('london town..', 1),\n",
       " ('magnolia, fiore ', 1),\n",
       " ('unite. bless. wallahi ', 1),\n",
       " ('jacksonville beach, fl', 1),\n",
       " ('glendale, ca', 1),\n",
       " ('too far', 1),\n",
       " ('port orange, fl', 1),\n",
       " ('milky way', 1),\n",
       " ('from ny. in scranton, pa', 1),\n",
       " ('freddy fazbears pizzeria', 1),\n",
       " ('columbus ?? north carolina', 1),\n",
       " ('toronto, on', 1),\n",
       " (\"uga '15 alumnus - economics \", 1),\n",
       " ('shrewsbury', 1),\n",
       " ('gwersyllt, wales', 1),\n",
       " ('havenford', 1),\n",
       " ('abuja, nigeria', 1),\n",
       " ('attock', 1),\n",
       " ('statute of limitations_', 1),\n",
       " ('amsterdam | san francisco', 1),\n",
       " ('sheffield township, ohio', 1),\n",
       " ('arthas us', 1),\n",
       " ('intermountain west', 1),\n",
       " ('morganville, texas.', 1),\n",
       " ('oshawa, canada', 1),\n",
       " ('302???? 815', 1),\n",
       " (\"you're not 19 forever   \", 1),\n",
       " ('crayford, london', 1),\n",
       " ('bolton & tewkesbury, uk', 1),\n",
       " ('usaov', 1),\n",
       " ('trapped in america', 1),\n",
       " ('ile-ife,osun state, nigeria', 1),\n",
       " ('cuttack, orissa', 1),\n",
       " ('bellville, ohio', 1),\n",
       " ('guatemala', 1),\n",
       " ('milwaukee wi', 1),\n",
       " ('us-east-1a', 1),\n",
       " ('orlando', 1),\n",
       " ('lexington', 1),\n",
       " ('justin and ariana follow', 1),\n",
       " ('global/worldwide', 1),\n",
       " ('the road to success', 1),\n",
       " ('waco, texas', 1),\n",
       " ('?@symbolicjensen?', 1),\n",
       " ('peterborough, on', 1),\n",
       " ('in my studio', 1),\n",
       " ('abuja,nigeria', 1),\n",
       " ('gettysburg, pa', 1),\n",
       " ('metro manila', 1),\n",
       " ('playa del carmen, mexico', 1),\n",
       " ('erbil', 1),\n",
       " ('irving , texas', 1),\n",
       " ('north cack/919', 1),\n",
       " ('wolverhampton/brum/jersey', 1),\n",
       " ('eagle pass, texas', 1),\n",
       " ('arlington, va', 1),\n",
       " ('ealing, london', 1),\n",
       " ('chicago (312)', 1),\n",
       " ('queens, ny', 1),\n",
       " ('castaic, ca', 1),\n",
       " ('m3, k, a, d', 1),\n",
       " ('canterbury kent', 1),\n",
       " ('570 vanderbilt; brooklyn, ny', 1),\n",
       " ('speaking the truth in love', 1),\n",
       " ('birmingham and the marches', 1),\n",
       " ('spinning through time.', 1),\n",
       " ('clearwater, fl', 1),\n",
       " ('l/s/z/l/t/h/c/h/r/a/s/c', 1),\n",
       " ('bay area', 1),\n",
       " ('georgia, u.s.a.', 1),\n",
       " ('quincy', 1),\n",
       " ('fort worth,  texas ', 1),\n",
       " ('central chazifornia', 1),\n",
       " ('surrounded by weeaboos', 1),\n",
       " ('saint marys, ga', 1),\n",
       " ('the internetz', 1),\n",
       " ('nashville, tennessee', 1),\n",
       " ('norwalk, ct', 1),\n",
       " ('here and there', 1),\n",
       " ('two up two down', 1),\n",
       " ('orange county, calif.', 1),\n",
       " ('newton centre, massachusetts', 1),\n",
       " ('atlanta, georgia usa', 1),\n",
       " ('east atlanta, georgia', 1),\n",
       " ('haveli, maharashtra', 1),\n",
       " ('cincinnati, oh', 1),\n",
       " ('use #tmw in tweets get #rt', 1),\n",
       " ('pa, usa', 1),\n",
       " ('the 5th dimension. ', 1),\n",
       " ('asgard', 1),\n",
       " ('palm desert, ca', 1),\n",
       " ('van buren, mo', 1),\n",
       " ('london/surrey ', 1),\n",
       " ('lawrence, ks via emporia, ks', 1),\n",
       " ('manaus', 1),\n",
       " ('calgary,ab', 1),\n",
       " ('ventura, ca', 1),\n",
       " (\"fsc '19\", 1),\n",
       " ('extraterrestrial highway', 1),\n",
       " ('scotts valley, ca', 1),\n",
       " ('\\x89û¢iii.xii.mmxi\\x89û¢', 1),\n",
       " ('texas-usa\\x89ã¢ ?', 1),\n",
       " ('williamsburg, va', 1),\n",
       " ('ojodu,lagos', 1),\n",
       " ('mass', 1),\n",
       " ('did anybody see me here ??', 1),\n",
       " ('dicky beach', 1),\n",
       " ('pontevedra, galicia', 1),\n",
       " ('perth, australia ', 1),\n",
       " ('purple booth studio\\x89ã¢', 1),\n",
       " ('hamilton county, in', 1),\n",
       " ('labuan, malaysia', 1),\n",
       " ('homs- syria', 1),\n",
       " ('bangor, co.down', 1),\n",
       " ('in my own world!!!', 1),\n",
       " ('big northeast litter box', 1),\n",
       " ('moore, ok', 1),\n",
       " ('lahar & gwalior', 1),\n",
       " ('albany/ny', 1),\n",
       " ('whippany, nj', 1),\n",
       " ('la - everywhere', 1),\n",
       " ('swag francisco', 1),\n",
       " ('rowyso dallas ', 1),\n",
       " ('westside of philly 7? block??', 1),\n",
       " ('pioneer village, ky', 1),\n",
       " ('kicking horse pass', 1),\n",
       " ('caserta-roma, italy ', 1),\n",
       " ('in the clouds...', 1),\n",
       " ('new york, ny ', 1),\n",
       " ('west chester, pa', 1),\n",
       " ('delhi', 1),\n",
       " ('poplar, london', 1),\n",
       " ('???????? ?????????.', 1),\n",
       " ('porto alegre, rio grande do sul', 1),\n",
       " ('toronto \\x89û¢ dallas', 1),\n",
       " ('arvada, co', 1),\n",
       " ('the peach state', 1),\n",
       " ('auburn ', 1),\n",
       " ('brasì_lia', 1),\n",
       " ('ìøåàå_t: 40.736324,-73.990062', 1),\n",
       " ('keli x', 1),\n",
       " ('california or colorado', 1),\n",
       " (\"r'lyeh, south pacific\", 1),\n",
       " ('los angeles for now', 1),\n",
       " ('beirut/toronto', 1),\n",
       " ('gloucester', 1),\n",
       " ('livingston, il  u.s.a.', 1),\n",
       " ('bodìü, norge', 1),\n",
       " ('thanjavur', 1),\n",
       " ('we?it \\x89û¢ ixwin', 1),\n",
       " ('lubbock, tx', 1),\n",
       " ('overland park, ks', 1),\n",
       " ('kingston, pennsylvania', 1),\n",
       " ('amsterdam & worldwide', 1),\n",
       " ('miami?gainesville', 1),\n",
       " ('quilmes , arg', 1),\n",
       " ('indiland ', 1),\n",
       " ('pittsboro', 1),\n",
       " ('long island', 1),\n",
       " ('ngapain?', 1),\n",
       " ('spring tx', 1),\n",
       " ('laventillemoorings ', 1),\n",
       " ('stamford & cork (& shropshire)', 1),\n",
       " ('potters bar', 1),\n",
       " ('unnamed city', 1),\n",
       " ('hospital, bc of skh vid.', 1),\n",
       " ('northern colorado', 1),\n",
       " ('southern califorina', 1),\n",
       " ('[marvel\\x89û¢dragon age\\x89û¢wicdiv]', 1),\n",
       " ('i got 1/13 menpa replies, omg', 1),\n",
       " ('harper woods, mi', 1),\n",
       " ('indiana, usa', 1),\n",
       " ('montreal', 1),\n",
       " ('worldwide-boston', 1),\n",
       " ('t e x a s | wwat 8.24.14', 1),\n",
       " ('they/them', 1),\n",
       " ('ivano-frankivsk', 1),\n",
       " ('nigeria, global', 1),\n",
       " ('espaì±a', 1),\n",
       " ('chester, il', 1),\n",
       " ('south carolina, usa', 1),\n",
       " (\"niall's arms\", 1),\n",
       " ('usa - canada - europe - asia', 1),\n",
       " ('instagram: bribriony', 1),\n",
       " ('followurdreams(& my instagram)', 1),\n",
       " ('leyland', 1),\n",
       " ('maharashtra', 1),\n",
       " ('numa casa de old yellow bricks', 1),\n",
       " ('call me peach or sam lo', 1),\n",
       " ('danbury, ct', 1),\n",
       " ('mogadishu, somalia', 1),\n",
       " ('kuwait ', 1),\n",
       " ('durban, south africa', 1),\n",
       " ('nicola valley', 1),\n",
       " ('palma, islas baleares', 1),\n",
       " ('state of dreaming', 1),\n",
       " ('world news', 1),\n",
       " ('bracknell', 1),\n",
       " ('warwick, ri @dollarocracy also', 1),\n",
       " ('a small federal enclave', 1),\n",
       " ('hyrule', 1),\n",
       " (\"#whereveri'mat\", 1),\n",
       " ('#phantrash', 1),\n",
       " (\"it's a journey \", 1),\n",
       " ('louavul, ky', 1),\n",
       " ('buxton, venice, and nottingham', 1),\n",
       " ('coasts of maine & california', 1),\n",
       " ('swindon,england ', 1),\n",
       " (\"robin hood's county \", 1),\n",
       " ('harlem, ny or chocolate city', 1),\n",
       " ('atlanta(ish), ga', 1),\n",
       " ('sodak', 1),\n",
       " ('zboyer@washingtontimes.com', 1),\n",
       " ('maryland ', 1),\n",
       " ('upper st clair, pa', 1),\n",
       " ('diamondville', 1),\n",
       " ('south of d.c.', 1),\n",
       " ('los angeles, london, kent', 1),\n",
       " ('itirapina, sì£o paulo', 1),\n",
       " ('southern maine', 1),\n",
       " ('coconut creek, florida', 1),\n",
       " ('birmingham uk', 1),\n",
       " ('international ', 1),\n",
       " ('philadelphia, pa usa', 1),\n",
       " ('calgary, alberta, canada', 1),\n",
       " ('chattanooga tn', 1),\n",
       " ('fountain city, in ', 1),\n",
       " ('\\x89û¢901\\x89û¢', 1),\n",
       " ('emirates', 1),\n",
       " ('city of joy', 1),\n",
       " ('front row at a show', 1),\n",
       " ('shirley, ny', 1),\n",
       " ('pon di gully', 1),\n",
       " ('the world', 1),\n",
       " ('the windy plains of denver', 1),\n",
       " ('dagenham, essex', 1),\n",
       " ('torrance, ca', 1),\n",
       " ('el paso, tx', 1),\n",
       " ('st.cloud, mn', 1),\n",
       " ('wakefield ma', 1),\n",
       " ('dhaka, bangladsh', 1),\n",
       " ('quincy ma', 1),\n",
       " ('prob turning up with sheen', 1),\n",
       " ('(spain)', 1),\n",
       " ('seattle, wa usa', 1),\n",
       " ('melbourne, australia.', 1),\n",
       " ('cuba', 1),\n",
       " ('otsego, mi', 1),\n",
       " ('azeroth', 1),\n",
       " ('eagle mountain, texas ', 1),\n",
       " ('$ad $hawty', 1),\n",
       " ('williamstown, vt', 1),\n",
       " ('west midlands', 1),\n",
       " ('panamìá ', 1),\n",
       " ('waco tx', 1),\n",
       " ('ebooks, north america', 1),\n",
       " ('hinton, w.va.', 1),\n",
       " ('mostly yuin.', 1),\n",
       " ('port williams ns', 1),\n",
       " ('new york ? atl', 1),\n",
       " ('pensacola, fl', 1),\n",
       " ('scottsdale, az', 1),\n",
       " ('highland park, ca', 1),\n",
       " ('hertfordshire ', 1),\n",
       " ('west africa', 1),\n",
       " ('probably watching survivor', 1),\n",
       " ('not steven yeun / amc.', 1),\n",
       " ('garden grove', 1),\n",
       " ('bronx nyc / m-city ny', 1),\n",
       " ('loughton, essex, uk', 1),\n",
       " ('nunya', 1),\n",
       " ('usa ', 1),\n",
       " ('west hollywood', 1),\n",
       " ('eastern iowa', 1),\n",
       " ('ìït: 33.209923,-87.545328', 1),\n",
       " ('paonia, colorado ', 1),\n",
       " ('bishops lydeard, england', 1),\n",
       " ('nairobi  kenya ', 1),\n",
       " ('bedford, england', 1),\n",
       " ('everydaynigerian@gmail.com', 1),\n",
       " ('#937??#734', 1),\n",
       " ('maryland, usa', 1),\n",
       " ('alger-new york-san francisco', 1),\n",
       " ('ny || live easy? ', 1),\n",
       " ('the shire', 1),\n",
       " ('port jervis, ny', 1),\n",
       " ('balikesir - eskisehir', 1),\n",
       " ('buffalo / madrid / granada', 1),\n",
       " ('ocean city, nj', 1),\n",
       " ('estados unidos', 1),\n",
       " ('scumbernauld', 1),\n",
       " ('in the shadows', 1),\n",
       " ('hailing from dayton ', 1),\n",
       " ('uk & ibiza', 1),\n",
       " ('unites states', 1),\n",
       " ('north port, fl', 1),\n",
       " ('here & there', 1),\n",
       " ('slappin and smackin ', 1),\n",
       " ('rafael castillo', 1),\n",
       " ('in #fairie, where else? ;-)', 1),\n",
       " ('proudly south african', 1),\n",
       " ('chamblee, georgia', 1),\n",
       " ('the p (south philly)', 1),\n",
       " ('inglewood, ca', 1),\n",
       " ('mars', 1),\n",
       " ('antioch, ca ', 1),\n",
       " ('halifax, nouvelle-ìäcosse', 1),\n",
       " ('queen creek az', 1),\n",
       " ('horsemind, mi', 1),\n",
       " ('madison, wisconsin, usa', 1),\n",
       " ('wyoming, mi (grand rapids)', 1),\n",
       " ('hamilton, on', 1),\n",
       " ('mysore, karnataka', 1),\n",
       " ('enniscrone & aughris, sligo ', 1),\n",
       " ('hollywood', 1),\n",
       " ('  glasgow ', 1),\n",
       " ('chorley, lancashire, uk', 1),\n",
       " ('palestine ', 1),\n",
       " ('kla,uganda', 1),\n",
       " ('gages lake, il', 1),\n",
       " ('nadiad ,gujarat , india!!', 1),\n",
       " ('qosqo', 1),\n",
       " ('southern california desert', 1),\n",
       " ('fort lauderdale, fl', 1),\n",
       " ('evergreen colorado', 1),\n",
       " ('silesia, poland', 1),\n",
       " ('brum/lestah ', 1),\n",
       " ('in the middle of no where', 1),\n",
       " ('lagos. unilag', 1),\n",
       " ('paducah, ky', 1),\n",
       " ('??? ???? ?f glory. ?', 1),\n",
       " ('ames, iowa', 1),\n",
       " ('17-feb', 1),\n",
       " ('nyc, new york', 1),\n",
       " ('5-feb', 1),\n",
       " ('hartford, connecticut', 1),\n",
       " ('#englewood chicago ', 1),\n",
       " (' alex/mika/leo|18|he/she/they', 1),\n",
       " ('score team goals buying @', 1),\n",
       " ('geneva. and beyond. ', 1),\n",
       " ('benedict college', 1),\n",
       " ('former yugoslav republic of macedonia', 1),\n",
       " ('cardiff, wales', 1),\n",
       " ('la/oc/vegas', 1),\n",
       " ('texas ', 1),\n",
       " ('watertown, mass.', 1),\n",
       " ('somewhere outside', 1),\n",
       " ('kajang ? uitm puncak alam', 1),\n",
       " ('rockford, il', 1),\n",
       " ('sheffield/leeds', 1),\n",
       " ('salt lake city, ut', 1),\n",
       " ('www.tmgcgart.com', 1),\n",
       " ('rotterdam, the netherlands', 1),\n",
       " ('bot account', 1),\n",
       " ('laying on the bass', 1),\n",
       " ('21, porto', 1),\n",
       " (\"greg's place\", 1),\n",
       " ('bestcoast', 1),\n",
       " ('ducked off . . . ', 1),\n",
       " ('ktx', 1),\n",
       " ('lincoln city oregon', 1),\n",
       " ('light and dark, form and void', 1),\n",
       " ('san gabriel la union', 1),\n",
       " ('9/1/13', 1),\n",
       " ('voorhees, nj', 1),\n",
       " ('philippines ', 1),\n",
       " ('m!$$!$$!pp!', 1),\n",
       " ('stl ?nola', 1),\n",
       " ('baker city oregon', 1),\n",
       " ('kisumu', 1),\n",
       " ('kaduna, nigeria', 1),\n",
       " ('spokane, washington', 1),\n",
       " ('3?3?7?slopelousas??2?2?5?', 1),\n",
       " ('the refrigerator ', 1),\n",
       " (\"xiumin's nonexistent solos\", 1),\n",
       " ('marysville, mi', 1),\n",
       " ('cydia', 1),\n",
       " ('north vancouver, bc', 1),\n",
       " ('bronx, new york', 1),\n",
       " ('london / st catharines ?', 1),\n",
       " ('cardiff, uk', 1),\n",
       " ('skyport de la rosa', 1),\n",
       " ('athens,greece', 1),\n",
       " ('the ?? below ???', 1),\n",
       " ('st austell, cornwall', 1),\n",
       " ('grimsby, england', 1),\n",
       " ('salt lake city, utah', 1),\n",
       " ('westerland', 1),\n",
       " ('greenfield, massachusetts', 1),\n",
       " ('harlem, new york', 1),\n",
       " ('santa clara, ca', 1),\n",
       " ('film out late 2015', 1),\n",
       " ('?^åá??åá?^?? ??', 1),\n",
       " ('burbank,ca', 1),\n",
       " ('jubail ic, saudi arabia', 1),\n",
       " ('cascadia', 1),\n",
       " ('pawnee', 1),\n",
       " ('gold coast, qld, australia', 1),\n",
       " (' the world', 1),\n",
       " ('saint louis, missouri', 1),\n",
       " ('u.s.a and canada', 1),\n",
       " ('twitter lockout in progress', 1),\n",
       " ('lealman, florida', 1),\n",
       " ('lima, peru', 1),\n",
       " ('brasil,sp', 1),\n",
       " ('mooseknuckle, maine', 1),\n",
       " ('calgary/airdrie/reddeer/ab', 1),\n",
       " ('newport, wales, uk', 1),\n",
       " ('essex', 1),\n",
       " ('ukraine and ireland', 1),\n",
       " ('... -.- -.--', 1),\n",
       " ('canada eh! ', 1),\n",
       " ('somewhere between here & there', 1),\n",
       " ('lakewood colorado', 1),\n",
       " ('north america', 1),\n",
       " ('marysville ca ', 1),\n",
       " ('your conversation', 1),\n",
       " ('santiago de cmpostela galicia', 1),\n",
       " ('jeddah | khartoum', 1),\n",
       " ('usa , az', 1),\n",
       " ('mostly wellington, nz ', 1),\n",
       " ('uae,sharjah/ abudhabi', 1),\n",
       " ('liì¬ge', 1),\n",
       " ('eau claire, wisconsin', 1),\n",
       " ('eagle river alaska', 1),\n",
       " ('kenosha, wi 53143', 1),\n",
       " ('amman,jordan', 1),\n",
       " ('winnipeg, mb, canada', 1),\n",
       " ('south carolina', 1),\n",
       " ('pig symbol, alabama', 1),\n",
       " ('studio', 1),\n",
       " ('seattle native in prescott, az', 1),\n",
       " ('south bloomfield, oh', 1),\n",
       " ('#expelcl*y', 1),\n",
       " ('uganda', 1),\n",
       " ('bki-kua', 1),\n",
       " ('505 w. maple, suite 100', 1),\n",
       " ('perth, australia', 1),\n",
       " ('notts', 1),\n",
       " ('mumbai india', 1),\n",
       " ('buenos aires argentina', 1),\n",
       " ('sherwood, brisbane, australia', 1),\n",
       " ('the tardis', 1),\n",
       " ('in the moment', 1),\n",
       " ('on the web', 1),\n",
       " ('santa maria, ca', 1),\n",
       " ('cleveland, tn', 1),\n",
       " ('regalo island', 1),\n",
       " ('icon: cheese3d', 1),\n",
       " ('hensley street, portland', 1),\n",
       " ('madison, wi & st. louis mo', 1),\n",
       " (\"'san antoniooooo'\", 1),\n",
       " ('stanford university', 1),\n",
       " ('pomfret/providence', 1),\n",
       " ('arkansas, jonesboro', 1),\n",
       " ('jackson', 1),\n",
       " ('narnia, maryland', 1),\n",
       " ('itunes - rss', 1),\n",
       " ('stowmarket', 1),\n",
       " ...]"
      ]
     },
     "execution_count": 22,
     "metadata": {},
     "output_type": "execute_result"
    }
   ],
   "source": [
    "locationFrequencies = nltk.FreqDist(location.lower() if not pd.isnull(location) else location\n",
    "                                    for location in train['location'])\n",
    "locationFrequencies.most_common()"
   ]
  },
  {
   "cell_type": "code",
   "execution_count": 23,
   "metadata": {
    "collapsed": false,
    "deletable": true,
    "editable": true
   },
   "outputs": [
    {
     "name": "stdout",
     "output_type": "stream",
     "text": [
      "1851\n"
     ]
    }
   ],
   "source": [
    "comma_locations = []\n",
    "for location in train['location']:\n",
    "    if not pd.isnull(location) and len(location.split(',')) > 1:\n",
    "        comma_locations.append(location)\n",
    "\n",
    "print(len(comma_locations))"
   ]
  },
  {
   "cell_type": "markdown",
   "metadata": {
    "deletable": true,
    "editable": true
   },
   "source": [
    "Observe that in the if condition above '> 1' and '== 2' will yield almost the same result.  Meaning that most of the locations with a comma have two words in them. And most of the remaining have three.\n",
    "<br>Two Words: california, usa.\n",
    "<br>Three Words: alexandria, va, usa\n",
    "\n",
    "<u>Note</u>: There could be garbage data with commas that doesn't give any usefult information. eg:- whatever, whereever, whenever.\n",
    "<br>And there could be more than two words with a single comma in them. eg:- Come here, don't fear.\n",
    "<br>But most of them are  genuine locations that follow our expected format. So we'll go ahead with this."
   ]
  },
  {
   "cell_type": "code",
   "execution_count": 24,
   "metadata": {
    "collapsed": false,
    "deletable": true,
    "editable": true
   },
   "outputs": [
    {
     "name": "stdout",
     "output_type": "stream",
     "text": [
      "1529\n"
     ]
    }
   ],
   "source": [
    "single_locations = []\n",
    "for location in train['location']:\n",
    "    if not pd.isnull(location) and len(re.findall(r'[a-zA-Z]+', location)) == 1:\n",
    "        single_locations.append(location)\n",
    "\n",
    "print(len(single_locations))"
   ]
  },
  {
   "cell_type": "markdown",
   "metadata": {
    "deletable": true,
    "editable": true
   },
   "source": [
    "These are locations with a single word and only alphabets. They're around 1529.\n",
    "<br>And there are 2533 Nan values. Meaning that most of the locations belong to these three categories. That's great!\n",
    "\n",
    "<u>Note</u>: Some locations can have a space in them, like San Francisco, so I'm splitting by commas in <i>findLocation().</i>\n",
    "\n",
    "---\n",
    "For locations with a comma, let's take the value to the extreme left.\n",
    "<br>We'd be going with specific location instead of the generalized one. We'll see if that helps the model or overfits it.\n",
    "<br><u>Update</u>: Taking either doesn't seem to improve the model performance that much. But! taking the generalized one reduces null values with the <i>findClosestLocation()</i> function used later on.\n",
    "<br>This could be because 'text' refers to countries more than the specified locations. So now I'm taking the right extreme value."
   ]
  },
  {
   "cell_type": "code",
   "execution_count": 25,
   "metadata": {
    "collapsed": false,
    "deletable": true,
    "editable": true
   },
   "outputs": [],
   "source": [
    "def findLocation(location):\n",
    "    comma_splits = location.split(',')\n",
    "    splits_count = len(comma_splits)\n",
    "    \n",
    "    if splits_count < 1 or splits_count > 3:\n",
    "        return location.lower()\n",
    "    else:\n",
    "        return comma_splits[splits_count-1].strip().lower()\n",
    "\n",
    "train['trans_location'] = train['location'].apply(lambda x: findLocation(x) if not pd.isnull(x) else x)\n",
    "test['trans_location'] = test['location'].apply(lambda x: findLocation(x) if not pd.isnull(x) else x)"
   ]
  },
  {
   "cell_type": "code",
   "execution_count": 26,
   "metadata": {
    "collapsed": false,
    "deletable": true,
    "editable": true,
    "scrolled": true
   },
   "outputs": [
    {
     "name": "stdout",
     "output_type": "stream",
     "text": [
      "976\n"
     ]
    }
   ],
   "source": [
    "comma_locations = []\n",
    "for location in train['trans_location']:\n",
    "    if not pd.isnull(location) and len(re.findall(r'[^a-zA-Z\\s]+', location)) >= 1:\n",
    "        comma_locations.append(location)\n",
    "\n",
    "print(len(comma_locations))"
   ]
  },
  {
   "cell_type": "markdown",
   "metadata": {
    "deletable": true,
    "editable": true
   },
   "source": [
    "There are some locations which have special characters. Compared to the rest, these are few.\n",
    "<br>We can look for the closest match for a location and leave the rest as they are.\n",
    "<br>For example:- #London -> London\n",
    "\n",
    "<br>Also, some 'text' fields contain location information. For null fields we can make use of them.\n",
    "\n",
    "---\n",
    "For implementing this we'll make a list of frequent locations that don't have any special characters."
   ]
  },
  {
   "cell_type": "code",
   "execution_count": 27,
   "metadata": {
    "collapsed": false,
    "deletable": true,
    "editable": true
   },
   "outputs": [],
   "source": [
    "normal_location_frequencies = nltk.FreqDist( location for location in train['trans_location']\n",
    "                                                    if not pd.isnull(location) and len(re.findall(r'[^a-zA-Z\\s]+', location)) < 1)\n",
    "                                                                        \n",
    "#normal_location_frequencies.most_common()"
   ]
  },
  {
   "cell_type": "code",
   "execution_count": 28,
   "metadata": {
    "collapsed": false,
    "deletable": true,
    "editable": true
   },
   "outputs": [],
   "source": [
    "normal_locations = list(normal_location_frequencies.keys())\n",
    "#normal_locations"
   ]
  },
  {
   "cell_type": "code",
   "execution_count": 29,
   "metadata": {
    "collapsed": false,
    "deletable": true,
    "editable": true
   },
   "outputs": [],
   "source": [
    "def findClosestLocation(record):\n",
    "    matched_locations = []\n",
    "    location = record['trans_location']\n",
    "    text = record['text'].lower()\n",
    "    if not pd.isnull(location) and len(re.findall(r'[^a-zA-Z\\s]+', location)) >= 1: # for non-null loations\n",
    "        for loc in re.findall(r'[a-zA-Z]+', location):\n",
    "            loc = loc.lower()\n",
    "            if loc in normal_locations:\n",
    "                matched_locations.append(loc)\n",
    "        \n",
    "        if len(matched_locations) > 0:\n",
    "            return max(matched_locations, key=matched_locations.count) # returns max value from the list based on count. Basically the maximum occuring location.\n",
    "    \n",
    "    elif pd.isnull(location) and not pd.isnull(text): # for null locations try to find location from 'text'\n",
    "        for token in re.findall(r'[a-zA-Z]+', text):\n",
    "            token = token.lower()\n",
    "            if token in normal_locations:\n",
    "                matched_locations.append(token)\n",
    "        \n",
    "        if len(matched_locations) > 0:\n",
    "            return max(matched_locations, key=matched_locations.count)\n",
    "        \n",
    "    return location\n",
    "        \n",
    "train['transformed_location'] = train.apply(lambda x: findClosestLocation(x), axis=1)\n",
    "test['transformed_location'] = test.apply(lambda x: findClosestLocation(x), axis=1)"
   ]
  },
  {
   "cell_type": "code",
   "execution_count": 30,
   "metadata": {
    "collapsed": false,
    "deletable": true,
    "editable": true
   },
   "outputs": [
    {
     "name": "stdout",
     "output_type": "stream",
     "text": [
      "609\n"
     ]
    }
   ],
   "source": [
    "comma_locations = []\n",
    "for location in train['transformed_location']:\n",
    "    if not pd.isnull(location) and len(re.findall(r'[^a-zA-Z\\s]+', location)) >= 1:\n",
    "        comma_locations.append(location)\n",
    "\n",
    "print(len(comma_locations))\n",
    "#print(comma_locations)"
   ]
  },
  {
   "cell_type": "markdown",
   "metadata": {
    "deletable": true,
    "editable": true
   },
   "source": [
    "We've successfully reduced it to 609. That's really great!\n",
    "<br>Looking at the locations that are left, it seems like it's mostly garbled data, most of which aren't even locations.\n",
    "\n",
    "<u>Update</u>: I'm gonna remove these garbled locations and replace them with a space."
   ]
  },
  {
   "cell_type": "code",
   "execution_count": 31,
   "metadata": {
    "collapsed": false,
    "deletable": true,
    "editable": true
   },
   "outputs": [],
   "source": [
    "def removeGarbled(location):\n",
    "    if not pd.isnull(location) and len(re.findall(r'[^a-zA-Z\\s]+', location)) >= 1:\n",
    "        return ''\n",
    "    return location\n",
    "\n",
    "train['transformed_location'] = train['transformed_location'].apply(lambda x: removeGarbled(x))\n",
    "test['transformed_location'] = test['transformed_location'].apply(lambda x: removeGarbled(x))"
   ]
  },
  {
   "cell_type": "code",
   "execution_count": 32,
   "metadata": {
    "collapsed": false,
    "deletable": true,
    "editable": true
   },
   "outputs": [
    {
     "data": {
      "text/plain": [
       "(645, 8)"
      ]
     },
     "execution_count": 32,
     "metadata": {},
     "output_type": "execute_result"
    }
   ],
   "source": [
    "train[train['transformed_location'].isnull()].shape"
   ]
  },
  {
   "cell_type": "markdown",
   "metadata": {
    "deletable": true,
    "editable": true
   },
   "source": [
    "The null values have reduced from 2533 to 645. That's almost 1/5th! Great!\n",
    "<br>Let's fill out the rest with empty strings."
   ]
  },
  {
   "cell_type": "code",
   "execution_count": 33,
   "metadata": {
    "collapsed": true,
    "deletable": true,
    "editable": true
   },
   "outputs": [],
   "source": [
    "train['transformed_location'].fillna('', inplace=True)\n",
    "test['transformed_location'].fillna('', inplace=True)"
   ]
  },
  {
   "cell_type": "markdown",
   "metadata": {
    "deletable": true,
    "editable": true
   },
   "source": [
    "I'm pretty happy with the locations so far.\n",
    "\n",
    "<br>Although, I could group 'USA', 'United States', 'America' etc together into one category and I could also consider two-worded locations.\n",
    "<br>Update: I took a few of the most frequent locations and mapped similar ones to the same name. This still doesn't improve accuracy."
   ]
  },
  {
   "cell_type": "code",
   "execution_count": 34,
   "metadata": {
    "collapsed": false,
    "deletable": true,
    "editable": true
   },
   "outputs": [
    {
     "data": {
      "text/plain": [
       "[('usa', 229),\n",
       " ('united states', 59),\n",
       " ('us', 37),\n",
       " ('america', 11),\n",
       " ('united states of america', 2)]"
      ]
     },
     "execution_count": 34,
     "metadata": {},
     "output_type": "execute_result"
    }
   ],
   "source": [
    "locationFrequencies = nltk.FreqDist(location if location in ['usa', 'us', 'u.s.a', 'u.s', 'united states', 'united states of america', 'america']\n",
    "                                    else None\n",
    "                                    for location in train['transformed_location'])\n",
    "locationFrequencies.most_common()[1:]"
   ]
  },
  {
   "cell_type": "markdown",
   "metadata": {
    "deletable": true,
    "editable": true
   },
   "source": [
    "These all mean the same thing. So let's map similar locations to a common name. "
   ]
  },
  {
   "cell_type": "code",
   "execution_count": 35,
   "metadata": {
    "collapsed": true,
    "deletable": true,
    "editable": true
   },
   "outputs": [],
   "source": [
    "location_mappings = {\n",
    "    'usa': ['usa', 'us', 'u.s.a', 'u.s', 'united states', 'united states of america', 'america'],\n",
    "    'ny' : ['ny', 'nyc', 'new york', 'new york city'],\n",
    "    'london' : ['london', 'england', 'london uk'],\n",
    "    'uk' : ['uk', 'u.k.', 'united kingdom'],\n",
    "    'earth' : ['everywhere', 'earth', 'planet earth', 'worldwide', 'world', 'universe', 'planet', 'global', 'the globe']\n",
    "}\n",
    "\n",
    "mapped_keys = location_mappings.keys()\n",
    "\n",
    "def getMappedLocations(location):\n",
    "    \n",
    "    for key in mapped_keys:\n",
    "        if location in location_mappings.get(key):\n",
    "            return key\n",
    "    \n",
    "    return location\n",
    "\n",
    "train['transformed_location'] = train['transformed_location'].apply(lambda x: getMappedLocations(x))\n",
    "test['transformed_location'] = test['transformed_location'].apply(lambda x: getMappedLocations(x))"
   ]
  },
  {
   "cell_type": "markdown",
   "metadata": {
    "deletable": true,
    "editable": true
   },
   "source": [
    "Let's check now."
   ]
  },
  {
   "cell_type": "code",
   "execution_count": 36,
   "metadata": {
    "collapsed": false,
    "deletable": true,
    "editable": true
   },
   "outputs": [
    {
     "data": {
      "text/plain": [
       "[('usa', 338)]"
      ]
     },
     "execution_count": 36,
     "metadata": {},
     "output_type": "execute_result"
    }
   ],
   "source": [
    "locationFrequencies = nltk.FreqDist(location if location in ['usa', 'us', 'u.s.a', 'u.s', 'united states', 'united states of america', 'america']\n",
    "                                    else None\n",
    "                                    for location in train['transformed_location'])\n",
    "locationFrequencies.most_common()[1:]"
   ]
  },
  {
   "cell_type": "markdown",
   "metadata": {
    "deletable": true,
    "editable": true
   },
   "source": [
    "Looks about right. Although, there's more we can do. (see below)\n",
    "<br>Let's save that for later."
   ]
  },
  {
   "cell_type": "code",
   "execution_count": 37,
   "metadata": {
    "collapsed": false,
    "deletable": true,
    "editable": true
   },
   "outputs": [
    {
     "data": {
      "text/plain": [
       "11"
      ]
     },
     "execution_count": 37,
     "metadata": {},
     "output_type": "execute_result"
    }
   ],
   "source": [
    "'''\n",
    "'san antoniooooo' -> 'San Antonio'\n",
    "'u.k.' -> 'uk'\n",
    "'unites states' -> 'united states'\n",
    "'home - syria' -> 'syria'\n",
    "\"'merica\" -> 'america'\n",
    "'''\n",
    "\n",
    "nltk.edit_distance('us', 'united states')"
   ]
  },
  {
   "cell_type": "markdown",
   "metadata": {
    "deletable": true,
    "editable": true
   },
   "source": [
    "---\n",
    "Let's move on to 'text'"
   ]
  },
  {
   "cell_type": "code",
   "execution_count": 38,
   "metadata": {
    "collapsed": false,
    "deletable": true,
    "editable": true
   },
   "outputs": [
    {
     "data": {
      "text/plain": [
       "0    Our Deeds are the Reason of this #earthquake M...\n",
       "1               Forest fire near La Ronge Sask. Canada\n",
       "2    All residents asked to 'shelter in place' are ...\n",
       "3    13,000 people receive #wildfires evacuation or...\n",
       "4    Just got sent this photo from Ruby #Alaska as ...\n",
       "5    #RockyFire Update => California Hwy. 20 closed...\n",
       "6    #flood #disaster Heavy rain causes flash flood...\n",
       "7    I'm on top of the hill and I can see a fire in...\n",
       "8    There's an emergency evacuation happening now ...\n",
       "9    I'm afraid that the tornado is coming to our a...\n",
       "Name: text, dtype: object"
      ]
     },
     "execution_count": 38,
     "metadata": {},
     "output_type": "execute_result"
    }
   ],
   "source": [
    "train['text'].head(10)"
   ]
  },
  {
   "cell_type": "code",
   "execution_count": 39,
   "metadata": {
    "collapsed": false,
    "deletable": true,
    "editable": true
   },
   "outputs": [
    {
     "data": {
      "text/plain": [
       "'#RockyFire Update => California Hwy. 20 closed in both directions due to Lake County fire - #CAfire #wildfires'"
      ]
     },
     "execution_count": 39,
     "metadata": {},
     "output_type": "execute_result"
    }
   ],
   "source": [
    "train['text'][5]"
   ]
  },
  {
   "cell_type": "markdown",
   "metadata": {
    "deletable": true,
    "editable": true
   },
   "source": [
    "Here are a few things I could do:\n",
    "<br>1: Replacing '#' with a space. I'm using space instead of empty string so I can get word separability in cases like '#Alaska#California'\n",
    "<br>2: Removing stop words.\n",
    "<br>3: Stemming / Lemmatizing\n",
    "<br>4: POS tagging\n",
    "<br>5: Word Vectors\n",
    "<br>6: To learn about the data, I could observe the most frequently used words in real and fake cases.\n",
    "<br>This'll probably help me understand if there's a linear, tree or any other complex relationship between the word frequencies and target. "
   ]
  },
  {
   "cell_type": "markdown",
   "metadata": {
    "collapsed": true,
    "deletable": true,
    "editable": true
   },
   "source": [
    "---\n",
    "Let's do step 1"
   ]
  },
  {
   "cell_type": "code",
   "execution_count": 40,
   "metadata": {
    "collapsed": false,
    "deletable": true,
    "editable": true
   },
   "outputs": [],
   "source": [
    "contractions = {\n",
    "\"ain't\": \"am not\",\n",
    "\"aren't\": \"are not\",\n",
    "\"can't\": \"cannot\",\n",
    "\"can't've\": \"cannot have\",\n",
    "\"'cause\": \"because\",\n",
    "\"could've\": \"could have\",\n",
    "\"couldn't\": \"could not\",\n",
    "\"couldn't've\": \"could not have\",\n",
    "\"didn't\": \"did not\",\n",
    "\"doesn't\": \"does not\",\n",
    "\"don't\": \"do not\",\n",
    "\"hadn't\": \"had not\",\n",
    "\"hadn't've\": \"had not have\",\n",
    "\"hasn't\": \"has not\",\n",
    "\"haven't\": \"have not\",\n",
    "\"he'd\": \"he would\",\n",
    "\"he'd've\": \"he would have\",\n",
    "\"he'll\": \"he will\",\n",
    "\"he's\": \"he is\",\n",
    "\"how'd\": \"how did\",\n",
    "\"how'll\": \"how will\",\n",
    "\"how's\": \"how is\",\n",
    "\"i'd\": \"i would\",\n",
    "\"i'll\": \"i will\",\n",
    "\"i'm\": \"i am\",\n",
    "\"i've\": \"i have\",\n",
    "\"isn't\": \"is not\",\n",
    "\"it'd\": \"it would\",\n",
    "\"it'll\": \"it will\",\n",
    "\"it's\": \"it is\",\n",
    "\"let's\": \"let us\",\n",
    "\"ma'am\": \"madam\",\n",
    "\"mayn't\": \"may not\",\n",
    "\"might've\": \"might have\",\n",
    "\"mightn't\": \"might not\",\n",
    "\"must've\": \"must have\",\n",
    "\"mustn't\": \"must not\",\n",
    "\"needn't\": \"need not\",\n",
    "\"oughtn't\": \"ought not\",\n",
    "\"shan't\": \"shall not\",\n",
    "\"sha'n't\": \"shall not\",\n",
    "\"she'd\": \"she would\",\n",
    "\"she'll\": \"she will\",\n",
    "\"she's\": \"she is\",\n",
    "\"should've\": \"should have\",\n",
    "\"shouldn't\": \"should not\",\n",
    "\"that'd\": \"that would\",\n",
    "\"that's\": \"that is\",\n",
    "\"that'll\": \"that will\",\n",
    "\"there'd\": \"there had\",\n",
    "\"there's\": \"there is\",\n",
    "\"they'd\": \"they would\",\n",
    "\"they'll\": \"they will\",\n",
    "\"they're\": \"they are\",\n",
    "\"they've\": \"they have\",\n",
    "\"wasn't\": \"was not\",\n",
    "\"we'd\": \"we would\",\n",
    "\"we'll\": \"we will\",\n",
    "\"we're\": \"we are\",\n",
    "\"we've\": \"we have\",\n",
    "\"weren't\": \"were not\",\n",
    "\"what'll\": \"what will\",\n",
    "\"what're\": \"what are\",\n",
    "\"what's\": \"what is\",\n",
    "\"what've\": \"what have\",\n",
    "\"where'd\": \"where did\",\n",
    "\"where's\": \"where is\",\n",
    "\"who'll\": \"who will\",\n",
    "\"who's\": \"who is\",\n",
    "\"won't\": \"will not\",\n",
    "\"wouldn't\": \"would not\",\n",
    "\"you'd\": \"you would\",\n",
    "\"you'll\": \"you will\",\n",
    "\"you're\": \"you are\",\n",
    "\"you've\": \"you have\",    \n",
    "\"thx\"   : \"thanks\"\n",
    "}\n",
    "\n",
    "def removeContractions(text):\n",
    "    text_tokens = text.split()\n",
    "    clean_tokens = []\n",
    "    \n",
    "    for token in text_tokens:\n",
    "        if token.lower() in contractions.keys():\n",
    "            token = contractions[token.lower()]\n",
    "        clean_tokens.append(token)\n",
    "    \n",
    "    return ' '.join(clean_tokens)"
   ]
  },
  {
   "cell_type": "code",
   "execution_count": 41,
   "metadata": {
    "collapsed": false,
    "deletable": true,
    "editable": true
   },
   "outputs": [],
   "source": [
    "train['trans_text'] = train['text'].apply(removeContractions)\n",
    "test['trans_text'] = test['text'].apply(removeContractions)"
   ]
  },
  {
   "cell_type": "code",
   "execution_count": 42,
   "metadata": {
    "collapsed": false,
    "deletable": true,
    "editable": true
   },
   "outputs": [
    {
     "data": {
      "text/plain": [
       "0    Our Deeds are the Reason of this #earthquake M...\n",
       "1               Forest fire near La Ronge Sask. Canada\n",
       "2    All residents asked to 'shelter in place' are ...\n",
       "3    13,000 people receive #wildfires evacuation or...\n",
       "4    Just got sent this photo from Ruby #Alaska as ...\n",
       "Name: trans_text, dtype: object"
      ]
     },
     "execution_count": 42,
     "metadata": {},
     "output_type": "execute_result"
    }
   ],
   "source": [
    "train['trans_text'].head()"
   ]
  },
  {
   "cell_type": "markdown",
   "metadata": {},
   "source": [
    "I've obtained this clean_text function from <a href=\"https://www.kaggle.com/latong/lstm-vs-bert-train-data-from-scratch-huggingface\">this</a> notebook on Kaggle. It's not possible or expected to remember all the scenarios.\n",
    "<br>Kernels and Notebooks like this help."
   ]
  },
  {
   "cell_type": "code",
   "execution_count": 43,
   "metadata": {
    "collapsed": false,
    "deletable": true,
    "editable": true
   },
   "outputs": [],
   "source": [
    "def cleanText(text):\n",
    "    # To lowercase\n",
    "    text = text.lower()\n",
    "    # Remove hashtag while keeping hashtag text\n",
    "    text = re.sub(r'#','', text)\n",
    "    # Remove HTML special entities (e.g. &amp;)\n",
    "    text = re.sub(r'\\&\\w*;', '', text)\n",
    "    # Remove tickers\n",
    "    text = re.sub(r'\\$\\w*', '', text)\n",
    "    # Remove hyperlinks\n",
    "    text = re.sub(r'https?:\\/\\/.*\\/\\w*', '', text)\n",
    "    # Remove whitespace (including new line characters)\n",
    "    text = re.sub(r'\\s\\s+','', text)\n",
    "    text = re.sub(r'[ ]{2, }',' ',text)\n",
    "    # Remove URL, RT, mention(@)\n",
    "    text=  re.sub(r'http(\\S)+', '',text)\n",
    "    text=  re.sub(r'http ...', '',text)\n",
    "    text=  re.sub(r'(RT|rt)[ ]*@[ ]*[\\S]+','',text)\n",
    "    text=  re.sub(r'RT[ ]?@','',text)\n",
    "    text = re.sub(r'@[\\S]+','',text)\n",
    "    # Remove words with 2 or fewer letters\n",
    "    text = re.sub(r'\\b\\w{1,2}\\b', '', text)\n",
    "    #&, < and >\n",
    "    text = re.sub(r'&amp;?', 'and',text)\n",
    "    text = re.sub(r'&lt;','<',text)\n",
    "    text = re.sub(r'&gt;','>',text)\n",
    "    # Insert space between words and punctuation marks\n",
    "    text = re.sub(r'([\\w\\d]+)([^\\w\\d ]+)', '\\1 \\2',text)\n",
    "    text = re.sub(r'([^\\w\\d ]+)([\\w\\d]+)', '\\1 \\2',text)\n",
    "    # Remove characters beyond Basic Multilingual Plane (BMP) of Unicode:\n",
    "    text= ''.join(c for c in text if c <= '\\uFFFF') \n",
    "    text = text.strip()\n",
    "    # Remove misspelling words\n",
    "    text = ''.join(''.join(s)[:2] for _, s in itertools.groupby(text))\n",
    "    # Remove punctuation\n",
    "    text = ' '.join(re.sub(\"[\\.\\,\\!\\?\\:\\;\\-\\=\\/\\|\\'\\(\\']\", \" \", text).split())\n",
    "    # Remove emoji\n",
    "    text = emoji.demojize(text)\n",
    "    text = text.replace(\":\",\" \")\n",
    "    text = ' '.join(text.split()) \n",
    "    text = re.sub(\"([^\\x00-\\x7F])+\",\" \",text)\n",
    "    # Remove Mojibake (also extra spaces)\n",
    "    text = ' '.join(re.sub(\"[^\\u4e00-\\u9fa5\\u0030-\\u0039\\u0041-\\u005a\\u0061-\\u007a]\", \" \", text).split())\n",
    "    return text"
   ]
  },
  {
   "cell_type": "code",
   "execution_count": 44,
   "metadata": {
    "collapsed": false,
    "deletable": true,
    "editable": true
   },
   "outputs": [],
   "source": [
    "train['trans_text'] = train['trans_text'].apply(cleanText)\n",
    "test['trans_text'] = test['trans_text'].apply(cleanText)"
   ]
  },
  {
   "cell_type": "code",
   "execution_count": 45,
   "metadata": {
    "collapsed": false,
    "deletable": true,
    "editable": true
   },
   "outputs": [
    {
     "data": {
      "text/plain": [
       "0    our deeds are the reason this earthquake may a...\n",
       "1                        forest fire near ronge canada\n",
       "2    all residents asked are being notified other e...\n",
       "3    people receive wildfires evacuation orders cal...\n",
       "4    just got sent this photo from ruby alaska smok...\n",
       "Name: trans_text, dtype: object"
      ]
     },
     "execution_count": 45,
     "metadata": {},
     "output_type": "execute_result"
    }
   ],
   "source": [
    "train['trans_text'].head()"
   ]
  },
  {
   "cell_type": "code",
   "execution_count": 49,
   "metadata": {
    "collapsed": false,
    "deletable": true,
    "editable": true
   },
   "outputs": [],
   "source": [
    "myOwnStopList=['i', 'me', 'my', 'myself', 'we', 'our', 'ours', 'ourselves', 'you', 'your', 'yours', 'yourself', 'yourselves', 'he', 'him', 'his', 'himself', 'she', \"she's\", 'her', 'hers', 'herself', 'it', \"it's\", 'its', 'itself', 'they', 'them', 'their', 'theirs', 'themselves', 'what', 'which', 'who', 'whom', 'this', 'that', 'these', 'those', 'am', 'is', 'are', 'was', 'were', 'be', 'been', 'being', 'have', 'has', 'had', 'having', 'do', 'does', 'did', 'doing', 'a', 'an', 'the', 'and', 'but', 'if', 'or', 'because', 'as', 'until', 'while', 'of', 'at', 'by', 'for', 'with', 'about', 'against', 'between', 'into', 'through', 'during', 'before', 'after', 'above', 'below', 'to', 'from', 'up', 'down', 'in', 'out', 'on', 'off', 'over', 'under', 'again', 'further', 'then', 'once', 'here', 'there', 'when', 'where', 'why', 'what','how', 'all', 'any', 'both', 'each', 'few', 'more', 'most', 'other', 'some', 'such', 'no', 'nor', 'not', 'only', 'own', 'same', 'so', 'than', 'too', 'very', 's', 't', 'can', 'will', 'just', 'do', 'should', \"should\", 'now', 'd', 'm', 'o', 're', 've', 'y', 'ain', \"are\", 'could', \"was\",\n",
    "'would','have','get','got','getting','one','two','still','going']\n",
    "\n",
    "def removeStopWords(text):\n",
    "    text_non_stop = []\n",
    "    for token in text.split():\n",
    "        if token not in myOwnStopList:\n",
    "            text_non_stop.append(token)\n",
    "    \n",
    "    return ' '.join(text_non_stop)"
   ]
  },
  {
   "cell_type": "code",
   "execution_count": 50,
   "metadata": {
    "collapsed": true,
    "deletable": true,
    "editable": true
   },
   "outputs": [],
   "source": [
    "train['trans_text'] = train['trans_text'].apply(removeStopWords)\n",
    "test['trans_text'] = test['trans_text'].apply(removeStopWords)"
   ]
  },
  {
   "cell_type": "code",
   "execution_count": 51,
   "metadata": {
    "collapsed": false,
    "deletable": true,
    "editable": true
   },
   "outputs": [
    {
     "data": {
      "text/plain": [
       "0            deeds reason earthquake may allah forgive\n",
       "1                        forest fire near ronge canada\n",
       "2    residents asked notified evacuation shelter pl...\n",
       "3    people receive wildfires evacuation orders cal...\n",
       "4    sent photo ruby alaska smoke wildfires pours s...\n",
       "Name: trans_text, dtype: object"
      ]
     },
     "execution_count": 51,
     "metadata": {},
     "output_type": "execute_result"
    }
   ],
   "source": [
    "train['trans_text'].head()"
   ]
  },
  {
   "cell_type": "markdown",
   "metadata": {},
   "source": [
    "What you consider as stop-words is subjective and problem-specific.\n",
    "<br>I think it may even be model dependent. It could help Word2Vec understand context."
   ]
  },
  {
   "cell_type": "markdown",
   "metadata": {
    "deletable": true,
    "editable": true
   },
   "source": [
    "---"
   ]
  },
  {
   "cell_type": "code",
   "execution_count": 52,
   "metadata": {
    "collapsed": false,
    "deletable": true,
    "editable": true
   },
   "outputs": [],
   "source": [
    "#special_characters = \"!@#$%^&*()_+-=~`[]\\;',./{}|:<>?\"\n",
    "stop_words = stopwords.words('english')\n",
    "porter = nltk.PorterStemmer()\n",
    "wnl = nltk.WordNetLemmatizer()\n",
    "\n",
    "def tokenizeText(text):\n",
    "    text_tokens = re.findall(r'[a-zA-Z]+', text)\n",
    "    text_tokens = [wnl.lemmatize(token) for token in text_tokens]\n",
    "\n",
    "    return ' '.join(text_tokens)\n",
    "\n",
    "train['trans_text'] = train['trans_text'].apply(tokenizeText)\n",
    "test['trans_text'] = test['trans_text'].apply(tokenizeText)"
   ]
  },
  {
   "cell_type": "code",
   "execution_count": 53,
   "metadata": {
    "collapsed": false,
    "deletable": true,
    "editable": true
   },
   "outputs": [
    {
     "data": {
      "text/plain": [
       "'rockyfire update california closed direction due lake county fire cafire wildfire'"
      ]
     },
     "execution_count": 53,
     "metadata": {},
     "output_type": "execute_result"
    }
   ],
   "source": [
    "train['trans_text'][5]"
   ]
  },
  {
   "cell_type": "code",
   "execution_count": 54,
   "metadata": {
    "collapsed": true,
    "deletable": true,
    "editable": true
   },
   "outputs": [],
   "source": [
    "class TextSentences(object):\n",
    "    \"\"\"TextSentences is a generator to produce a list of tokenized sentences \n",
    "    \n",
    "    Takes a list of numpy arrays containing rows of train and test data.\n",
    "    \n",
    "    Args:\n",
    "        texts: List of texts, where each text in the list contains rows of data.\n",
    "    \"\"\"\n",
    "    def __init__(self, *texts):\n",
    "        self.texts = texts\n",
    " \n",
    "    def __iter__(self):\n",
    "        for text in self.texts:\n",
    "            for row in text:\n",
    "                for sentence in nltk.sent_tokenize(row):\n",
    "                    yield nltk.word_tokenize(sentence)\n",
    "\n",
    "def get_word2vec(sentences, location, size):\n",
    "    \"\"\"Returns trained word2vec\n",
    "    \n",
    "    Args:\n",
    "        sentences: iterator for sentences\n",
    "        \n",
    "        location (str): Path to save/load word2vec\n",
    "    \"\"\"\n",
    "    if exists(location):\n",
    "        print('Found {}'.format(location))\n",
    "        model = gensim.models.Word2Vec.load(location)\n",
    "        return model\n",
    "    \n",
    "    print('{} not found. training model'.format(location))\n",
    "    model = gensim.models.Word2Vec(sentences, size=size, window=5, min_count=5, workers=4)\n",
    "    print('Model done training. Saving to disk')\n",
    "    model.save(location)\n",
    "    return model"
   ]
  },
  {
   "cell_type": "markdown",
   "metadata": {},
   "source": [
    "Only going to use the Word2Vec model for the 'text' feature now."
   ]
  },
  {
   "cell_type": "code",
   "execution_count": 55,
   "metadata": {
    "collapsed": false,
    "deletable": true,
    "editable": true
   },
   "outputs": [
    {
     "name": "stdout",
     "output_type": "stream",
     "text": [
      "Found c:\\users\\avinash akella\\canopy\\Data\\real-or-not\\text_w2vmodel\n"
     ]
    },
    {
     "data": {
      "text/plain": [
       "\"\\nkey_w2vec = get_word2vec(\\n    TextSentences(\\n        train['trans_keyword'].values, \\n        #\\n        df_test['Text'].values  Commented for Kaggle limits\\n    ),\\n    join(real_or_not_directory, 'key_w2vmodel'), 50\\n)\\n\\nloc_w2vec = get_word2vec(\\n    TextSentences(\\n        train['transformed_location'].values, \\n        #df_test['Text'].values  Commented for Kaggle limits\\n    ),\\n    join(real_or_not_directory, 'loc_w2vmodel'), 50\\n)\\n\""
      ]
     },
     "execution_count": 55,
     "metadata": {},
     "output_type": "execute_result"
    }
   ],
   "source": [
    "text_w2vec = get_word2vec(\n",
    "    TextSentences(\n",
    "        train['trans_text'].values, \n",
    "        test['trans_text'].values\n",
    "    ),\n",
    "    join(real_or_not_directory, 'text_w2vmodel'), 50\n",
    ")\n",
    "\n",
    "'''\n",
    "key_w2vec = get_word2vec(\n",
    "    TextSentences(\n",
    "        train['trans_keyword'].values, \n",
    "        #\n",
    "        df_test['Text'].values  Commented for Kaggle limits\n",
    "    ),\n",
    "    join(real_or_not_directory, 'key_w2vmodel'), 50\n",
    ")\n",
    "\n",
    "loc_w2vec = get_word2vec(\n",
    "    TextSentences(\n",
    "        train['transformed_location'].values, \n",
    "        #df_test['Text'].values  Commented for Kaggle limits\n",
    "    ),\n",
    "    join(real_or_not_directory, 'loc_w2vmodel'), 50\n",
    ")\n",
    "'''"
   ]
  },
  {
   "cell_type": "markdown",
   "metadata": {},
   "source": [
    "Let's how keyword frequencies are and what we can do with them."
   ]
  },
  {
   "cell_type": "code",
   "execution_count": 56,
   "metadata": {
    "collapsed": true,
    "deletable": true,
    "editable": true
   },
   "outputs": [],
   "source": [
    "keyword_frequencies = nltk.FreqDist(keyword for keyword in train['trans_keyword'])\n",
    "most_common_tuples = keyword_frequencies.most_common(60)\n",
    "\n",
    "most_common_keywords = []\n",
    "\n",
    "for keyword, freq  in most_common_tuples:\n",
    "    most_common_keywords.append(keyword)"
   ]
  },
  {
   "cell_type": "markdown",
   "metadata": {
    "deletable": true,
    "editable": true
   },
   "source": [
    "I observe that CountVectorizer with the most frequent words as vocabulary gives the same result as TfidVectorizer without the vocabulary.\n",
    "<br>Nice."
   ]
  },
  {
   "cell_type": "code",
   "execution_count": 57,
   "metadata": {
    "collapsed": false,
    "deletable": true,
    "editable": true
   },
   "outputs": [],
   "source": [
    "keywords_vectorizer = CountVectorizer(\n",
    "    analyzer=\"word\", tokenizer=nltk.word_tokenize,\n",
    "    preprocessor=None, stop_words=None, max_features=None)    \n",
    "\n",
    "keyword_vectors_train = keywords_vectorizer.fit_transform(train['trans_keyword'])\n",
    "keyword_vectors_test = keywords_vectorizer.transform(test['trans_keyword'])\n",
    "\n",
    "svd = TruncatedSVD(n_components=50, n_iter=50, random_state=12)\n",
    "keyword_features_train = svd.fit_transform(keyword_vectors_train)\n",
    "keyword_features_test = svd.transform(keyword_vectors_test)"
   ]
  },
  {
   "cell_type": "markdown",
   "metadata": {},
   "source": [
    "Let's see locations"
   ]
  },
  {
   "cell_type": "code",
   "execution_count": 58,
   "metadata": {
    "collapsed": false,
    "deletable": true,
    "editable": true
   },
   "outputs": [],
   "source": [
    "location_frequencies = nltk.FreqDist(location for location in train['transformed_location'])\n",
    "most_common_tuples = location_frequencies.most_common(100)\n",
    "\n",
    "most_common_locations = []\n",
    "\n",
    "for location, freq  in most_common_tuples:\n",
    "    if not location == '' or location.isspace():\n",
    "        most_common_locations.append(location)"
   ]
  },
  {
   "cell_type": "code",
   "execution_count": 59,
   "metadata": {
    "collapsed": false,
    "deletable": true,
    "editable": true
   },
   "outputs": [],
   "source": [
    "location_vectorizer = TfidfVectorizer(\n",
    "    analyzer=\"word\", tokenizer=nltk.word_tokenize, vocabulary=most_common_locations,\n",
    "    preprocessor=None, stop_words='english', max_features=None)\n",
    "\n",
    "location_vectors_train = location_vectorizer.fit_transform(train['transformed_location'])\n",
    "location_vectors_test = location_vectorizer.transform(test['transformed_location'])\n",
    "\n",
    "svd = TruncatedSVD(n_components=50, n_iter=50, random_state=12)\n",
    "location_features_train = svd.fit_transform(location_vectors_train)\n",
    "location_features_test = svd.transform(location_vectors_test)"
   ]
  },
  {
   "cell_type": "code",
   "execution_count": 60,
   "metadata": {
    "collapsed": false,
    "deletable": true,
    "editable": true
   },
   "outputs": [],
   "source": [
    "class TextTokenizer:\n",
    "    \n",
    "    def __init__(self):\n",
    "        pass\n",
    "        \n",
    "    def fit(self, text, y=None):\n",
    "        return self\n",
    "        \n",
    "    def transform(self, text_rows):\n",
    "        text_tokens = []\n",
    "        \n",
    "        for row in text_rows:\n",
    "            row_tokens = []\n",
    "            for sentence in nltk.sent_tokenize(row):\n",
    "                row_tokens.extend(nltk.word_tokenize(sentence))\n",
    "            '''\n",
    "            Remove stop-words from row_tokens\n",
    "            '''\n",
    "            text_tokens.append(np.array(row_tokens))\n",
    "        \n",
    "        return np.array(text_tokens)\n",
    "        \n",
    "    def fit_transform(self, text_rows):\n",
    "        return self.transform(text_rows)\n",
    "\n",
    "class MeanEmbeddingVectorizer:\n",
    "    \n",
    "    def __init__(self, word2vec):\n",
    "        self.word2vec = word2vec\n",
    "        '''\n",
    "        Dimension of the words vectors. This is used while calculating mean.\n",
    "        For a word that doesn't have a vector we use an array of zeros that has this dimension.\n",
    "        '''\n",
    "        self.dim = len(word2vec.wv.syn0[0]) #len(word2vec.itervalues().next())\n",
    "    \n",
    "    def fit(self, X, Y=None):\n",
    "        return self\n",
    "    \n",
    "    def transform(self, X):\n",
    "        tokenized_text = TextTokenizer().fit_transform(X)\n",
    "        \n",
    "        return np.array([\n",
    "            np.mean([self.word2vec.wv[word] for word in row if word in self.word2vec.wv]\n",
    "                    or [np.zeros(self.dim)], axis=0)\n",
    "            for row in tokenized_text\n",
    "        ])\n",
    "        \n",
    "    def fit_transform(self, X, Y=None):\n",
    "        return self.transform(X)"
   ]
  },
  {
   "cell_type": "code",
   "execution_count": 77,
   "metadata": {
    "collapsed": true
   },
   "outputs": [],
   "source": [
    "text_vectorizer = CountVectorizer(\n",
    "    analyzer=\"word\", tokenizer=nltk.word_tokenize,\n",
    "    preprocessor=None, stop_words=None, max_features=None)\n",
    "\n",
    "text_vectors_train = text_vectorizer.fit_transform(train['trans_text'])\n",
    "text_vectors_test = text_vectorizer.transform(test['trans_text'])\n",
    "\n",
    "svd = TruncatedSVD(n_components=50, n_iter=50, random_state=12)\n",
    "text_features_train = svd.fit_transform(text_vectors_train)\n",
    "text_features_test = svd.transform(text_vectors_test)"
   ]
  },
  {
   "cell_type": "code",
   "execution_count": 62,
   "metadata": {
    "collapsed": false,
    "deletable": true,
    "editable": true
   },
   "outputs": [
    {
     "name": "stderr",
     "output_type": "stream",
     "text": [
      "c:\\users\\avinash akella\\canopy\\notebooks\\practice:34: DeprecationWarning: Call to deprecated `syn0` (Attribute will be removed in 4.0.0, use self.vectors instead).\n"
     ]
    }
   ],
   "source": [
    "text_MEV = MeanEmbeddingVectorizer(text_w2vec)\n",
    "text_features_train = text_MEV.fit_transform(train['trans_text'].values)\n",
    "text_features_test = text_MEV.transform(test['trans_text'].values)"
   ]
  },
  {
   "cell_type": "markdown",
   "metadata": {},
   "source": [
    "I could either use a CountVectorizer or Word2Vec for text. Let's try both."
   ]
  },
  {
   "cell_type": "code",
   "execution_count": 63,
   "metadata": {
    "collapsed": false,
    "deletable": true,
    "editable": true
   },
   "outputs": [
    {
     "name": "stdout",
     "output_type": "stream",
     "text": [
      "(7613, 50) (7613, 50) (7613, 50)\n"
     ]
    }
   ],
   "source": [
    "print(text_features_train.shape, keyword_features_train.shape, location_features_train.shape)"
   ]
  },
  {
   "cell_type": "code",
   "execution_count": 78,
   "metadata": {
    "collapsed": false,
    "deletable": true,
    "editable": true
   },
   "outputs": [
    {
     "name": "stdout",
     "output_type": "stream",
     "text": [
      "(7613, 50) (3263, 50)\n"
     ]
    }
   ],
   "source": [
    "text_df_train = pd.DataFrame(data=text_features_train)\n",
    "keyword_df_train = pd.DataFrame(data=keyword_features_train)\n",
    "location_df_train = pd.DataFrame(data=location_features_train)\n",
    "\n",
    "text_df_test = pd.DataFrame(data=text_features_test)\n",
    "keyword_df_test = pd.DataFrame(data=keyword_features_test)\n",
    "location_df_test = pd.DataFrame(data=location_features_test)\n",
    "\n",
    "features_df_train = pd.concat([text_df_train], axis=1)\n",
    "features_df_test = pd.concat([text_df_test], axis=1)\n",
    "\n",
    "print(features_df_train.shape, features_df_test.shape)"
   ]
  },
  {
   "cell_type": "code",
   "execution_count": 65,
   "metadata": {
    "collapsed": false,
    "deletable": true,
    "editable": true
   },
   "outputs": [],
   "source": [
    "def evaluate_features(X, y, clf=None):\n",
    "    \"\"\"General helper function for evaluating effectiveness of passed features in ML model\n",
    "    \n",
    "    Prints out Log loss, accuracy, and confusion matrix with 3-fold stratified cross-validation\n",
    "    \n",
    "    Args:\n",
    "        X (array-like): Features array. Shape (n_samples, n_features)\n",
    "        \n",
    "        y (array-like): Labels array. Shape (n_samples,)\n",
    "        \n",
    "        clf: Classifier to use. If None, default Log reg is use.\n",
    "    \"\"\"\n",
    "    if clf is None:\n",
    "        clf = LogisticRegression(verbose=1, solver='liblinear',random_state=0, C=5, penalty='l2',max_iter=1000)\n",
    "    \n",
    "    probas = cross_val_predict(clf, X, y, cv=StratifiedKFold(random_state=8), \n",
    "                              n_jobs=-1, method='predict_proba', verbose=2)\n",
    "    pred_indices = np.argmax(probas, axis=1)\n",
    "    classes = np.unique(y)\n",
    "    preds = classes[pred_indices]\n",
    "    print('Log loss: {}'.format(log_loss(y, probas)))\n",
    "    print('Accuracy: {}'.format(accuracy_score(y, preds)))\n",
    "    print('F1 Score: {}'.format(f1_score(y, preds)))\n",
    "    skplt.plot_confusion_matrix(y, preds)\n"
   ]
  },
  {
   "cell_type": "code",
   "execution_count": 79,
   "metadata": {
    "collapsed": false,
    "deletable": true,
    "editable": true
   },
   "outputs": [
    {
     "name": "stderr",
     "output_type": "stream",
     "text": [
      "C:\\Users\\AVINASH AKELLA\\AppData\\Local\\Enthought\\Canopy\\edm\\envs\\User\\lib\\site-packages\\sklearn\\model_selection\\_split.py:296: FutureWarning: Setting a random_state has no effect since shuffle is False. This will raise an error in 0.24. You should leave random_state to its default (None), or set shuffle=True.\n",
      "  FutureWarning\n",
      "[Parallel(n_jobs=-1)]: Using backend LokyBackend with 4 concurrent workers.\n",
      "[Parallel(n_jobs=-1)]: Done   5 out of   5 | elapsed:    0.3s finished\n",
      "C:\\Users\\AVINASH AKELLA\\AppData\\Local\\Enthought\\Canopy\\edm\\envs\\User\\lib\\site-packages\\sklearn\\utils\\deprecation.py:87: FutureWarning: Function plot_confusion_matrix is deprecated; This will be removed in v0.4.0. Please use scikitplot.metrics.plot_confusion_matrix instead.\n",
      "  warnings.warn(msg, category=FutureWarning)\n"
     ]
    },
    {
     "name": "stdout",
     "output_type": "stream",
     "text": [
      "Log loss: 0.6178022466543289\n",
      "Accuracy: 0.7079994745829502\n",
      "F1 Score: 0.5921849201981287\n"
     ]
    },
    {
     "data": {
      "image/png": "[encoded data removed]",
      "text/plain": [
       "<matplotlib.figure.Figure at 0x19690a6cf60>"
      ]
     },
     "metadata": {},
     "output_type": "display_data"
    }
   ],
   "source": [
    "evaluate_features(features_df_train, train['target'])"
   ]
  },
  {
   "cell_type": "code",
   "execution_count": 82,
   "metadata": {
    "collapsed": false,
    "deletable": true,
    "editable": true
   },
   "outputs": [
    {
     "name": "stderr",
     "output_type": "stream",
     "text": [
      "C:\\Users\\AVINASH AKELLA\\AppData\\Local\\Enthought\\Canopy\\edm\\envs\\User\\lib\\site-packages\\sklearn\\model_selection\\_split.py:296: FutureWarning: Setting a random_state has no effect since shuffle is False. This will raise an error in 0.24. You should leave random_state to its default (None), or set shuffle=True.\n",
      "  FutureWarning\n",
      "[Parallel(n_jobs=-1)]: Using backend LokyBackend with 4 concurrent workers.\n",
      "[Parallel(n_jobs=-1)]: Done   5 out of   5 | elapsed:   38.1s finished\n",
      "C:\\Users\\AVINASH AKELLA\\AppData\\Local\\Enthought\\Canopy\\edm\\envs\\User\\lib\\site-packages\\sklearn\\utils\\deprecation.py:87: FutureWarning: Function plot_confusion_matrix is deprecated; This will be removed in v0.4.0. Please use scikitplot.metrics.plot_confusion_matrix instead.\n",
      "  warnings.warn(msg, category=FutureWarning)\n"
     ]
    },
    {
     "name": "stdout",
     "output_type": "stream",
     "text": [
      "Log loss: 0.603053418496749\n",
      "Accuracy: 0.7032707211349009\n",
      "F1 Score: 0.6081526452732002\n"
     ]
    },
    {
     "data": {
      "image/png": "[encoded data removed]",
      "text/plain": [
       "<matplotlib.figure.Figure at 0x196937230b8>"
      ]
     },
     "metadata": {},
     "output_type": "display_data"
    }
   ],
   "source": [
    "evaluate_features(features_df_train, train['target'], RandomForestClassifier(n_estimators=100))"
   ]
  },
  {
   "cell_type": "code",
   "execution_count": 83,
   "metadata": {
    "collapsed": false,
    "deletable": true,
    "editable": true
   },
   "outputs": [
    {
     "data": {
      "text/plain": [
       "0.5939323220536756"
      ]
     },
     "execution_count": 83,
     "metadata": {},
     "output_type": "execute_result"
    }
   ],
   "source": [
    "scores = cross_val_score(RidgeClassifier(), features_df_train, train['target'], cv=3, scoring=\"f1\")\n",
    "scores[np.argmax(scores)]"
   ]
  },
  {
   "cell_type": "code",
   "execution_count": 81,
   "metadata": {
    "collapsed": true,
    "deletable": true,
    "editable": true
   },
   "outputs": [],
   "source": [
    "clf = RidgeClassifier()\n",
    "clf.fit(features_df_train, train['target'])\n",
    "\n",
    "submission = pd.read_csv(join(real_or_not_directory, \"sample_submission.csv\"))\n",
    "submission['target'] = clf.predict(features_df_test)"
   ]
  },
  {
   "cell_type": "markdown",
   "metadata": {
    "collapsed": true,
    "deletable": true,
    "editable": true
   },
   "source": [
    "The model correctly guesses fake labels, but for true labels it seems 50-50.\n",
    "<br>That's equivalent to a random guess. Crap. I'll have to revisit this.\n",
    "<br>Not a bad attempt for my first time doing NLP, I guess."
   ]
  },
  {
   "cell_type": "code",
   "execution_count": null,
   "metadata": {
    "collapsed": true
   },
   "outputs": [],
   "source": []
  }
 ],
 "metadata": {
  "kernelspec": {
   "display_name": "Python 3",
   "language": "python",
   "name": "python3"
  },
  "language_info": {
   "codemirror_mode": {
    "name": "ipython",
    "version": 3
   },
   "file_extension": ".py",
   "mimetype": "text/x-python",
   "name": "python",
   "nbconvert_exporter": "python",
   "pygments_lexer": "ipython3",
   "version": "3.5.2"
  }
 },
 "nbformat": 4,
 "nbformat_minor": 2
}
